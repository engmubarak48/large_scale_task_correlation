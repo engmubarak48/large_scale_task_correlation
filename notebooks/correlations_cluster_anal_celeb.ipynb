{
 "cells": [
  {
   "cell_type": "code",
   "execution_count": 1,
   "metadata": {},
   "outputs": [
    {
     "name": "stdout",
     "output_type": "stream",
     "text": [
      "/Users/jamahusseinmohamud/Desktop/research/DM research/large_scale_correlations/large_scale_task_correlation/notebooks\n"
     ]
    }
   ],
   "source": [
    "!pwd"
   ]
  },
  {
   "cell_type": "code",
   "execution_count": 1,
   "metadata": {},
   "outputs": [
    {
     "name": "stdout",
     "output_type": "stream",
     "text": [
      "/Users/jamahusseinmohamud/Desktop/research/DM research/large_scale_correlations/large_scale_task_correlation\n"
     ]
    }
   ],
   "source": [
    "%cd .."
   ]
  },
  {
   "attachments": {},
   "cell_type": "markdown",
   "metadata": {},
   "source": [
    "### Imports"
   ]
  },
  {
   "cell_type": "code",
   "execution_count": 2,
   "metadata": {},
   "outputs": [],
   "source": [
    "import torch\n",
    "import math\n",
    "import csv\n",
    "import torchvision\n",
    "from torchvision import transforms\n",
    "from PIL import Image\n",
    "from src.models.architectures import ResNet18\n",
    "import multiprocessing\n",
    "import numpy as np\n",
    "import seaborn as sns\n",
    "import pandas as pd\n",
    "import matplotlib.pyplot as plt\n",
    "from torch.autograd import Variable\n",
    "from sklearn.metrics import accuracy_score, f1_score, average_precision_score"
   ]
  },
  {
   "attachments": {},
   "cell_type": "markdown",
   "metadata": {},
   "source": [
    "### Label correlation matrix"
   ]
  },
  {
   "cell_type": "code",
   "execution_count": 5,
   "metadata": {},
   "outputs": [
    {
     "name": "stdout",
     "output_type": "stream",
     "text": [
      "Files already downloaded and verified\n"
     ]
    }
   ],
   "source": [
    "data_path = '/Users/jamahusseinmohamud/Desktop/research/DM research/large_scale_correlations/large_scale_task_correlation/data/celeb_datasets'\n",
    "celebData = torchvision.datasets.CelebA(data_path, split='train', target_type = 'attr', transform=transforms.ToTensor(), download = True)"
   ]
  },
  {
   "cell_type": "code",
   "execution_count": 6,
   "metadata": {},
   "outputs": [],
   "source": [
    "celebData.attr_names.remove('')"
   ]
  },
  {
   "cell_type": "code",
   "execution_count": 7,
   "metadata": {},
   "outputs": [
    {
     "name": "stdout",
     "output_type": "stream",
     "text": [
      "['5_o_Clock_Shadow', 'Arched_Eyebrows', 'Attractive', 'Bags_Under_Eyes', 'Bald', 'Bangs', 'Big_Lips', 'Big_Nose', 'Black_Hair', 'Blond_Hair', 'Blurry', 'Brown_Hair', 'Bushy_Eyebrows', 'Chubby', 'Double_Chin', 'Eyeglasses', 'Goatee', 'Gray_Hair', 'Heavy_Makeup', 'High_Cheekbones', 'Male', 'Mouth_Slightly_Open', 'Mustache', 'Narrow_Eyes', 'No_Beard', 'Oval_Face', 'Pale_Skin', 'Pointy_Nose', 'Receding_Hairline', 'Rosy_Cheeks', 'Sideburns', 'Smiling', 'Straight_Hair', 'Wavy_Hair', 'Wearing_Earrings', 'Wearing_Hat', 'Wearing_Lipstick', 'Wearing_Necklace', 'Wearing_Necktie', 'Young']\n"
     ]
    }
   ],
   "source": [
    "print(celebData.attr_names)"
   ]
  },
  {
   "cell_type": "code",
   "execution_count": 8,
   "metadata": {},
   "outputs": [],
   "source": [
    "num_workers = multiprocessing.cpu_count()\n",
    "trainloader = torch.utils.data.DataLoader(\n",
    "    celebData, batch_size=4, shuffle=True, num_workers=num_workers)\n"
   ]
  },
  {
   "cell_type": "code",
   "execution_count": 9,
   "metadata": {},
   "outputs": [],
   "source": [
    "batch = next(iter(trainloader))"
   ]
  },
  {
   "cell_type": "code",
   "execution_count": 10,
   "metadata": {},
   "outputs": [
    {
     "data": {
      "text/plain": [
       "torch.Size([4, 40])"
      ]
     },
     "execution_count": 10,
     "metadata": {},
     "output_type": "execute_result"
    }
   ],
   "source": [
    "batch[1].shape"
   ]
  },
  {
   "cell_type": "code",
   "execution_count": 11,
   "metadata": {},
   "outputs": [
    {
     "data": {
      "text/plain": [
       "tensor([[0, 0, 1, 0, 0, 0, 0, 0, 0, 0, 0, 0, 0, 0, 0, 0, 0, 0, 0, 0, 0, 0, 0, 0,\n",
       "         1, 0, 0, 0, 0, 0, 0, 0, 0, 0, 0, 1, 0, 0, 0, 1],\n",
       "        [1, 0, 1, 0, 0, 0, 0, 1, 1, 0, 0, 0, 1, 0, 0, 0, 0, 0, 0, 0, 1, 0, 0, 0,\n",
       "         0, 1, 0, 0, 0, 0, 0, 0, 0, 1, 0, 0, 0, 0, 0, 1],\n",
       "        [0, 1, 0, 0, 0, 0, 1, 0, 0, 0, 0, 0, 0, 0, 0, 0, 0, 0, 0, 0, 0, 1, 0, 0,\n",
       "         1, 0, 0, 0, 0, 0, 0, 1, 0, 1, 0, 0, 1, 0, 0, 1],\n",
       "        [0, 0, 0, 0, 0, 0, 0, 1, 0, 0, 0, 0, 0, 1, 0, 1, 0, 0, 0, 0, 1, 0, 0, 0,\n",
       "         0, 0, 0, 0, 0, 0, 0, 0, 0, 0, 0, 1, 0, 1, 0, 1]])"
      ]
     },
     "execution_count": 11,
     "metadata": {},
     "output_type": "execute_result"
    }
   ],
   "source": [
    "batch[1]"
   ]
  },
  {
   "cell_type": "code",
   "execution_count": 12,
   "metadata": {},
   "outputs": [],
   "source": [
    "\n",
    "multilabel_matrix = torch.zeros((len(celebData), len(celebData.attr_names)))\n",
    "i = 0\n",
    "batch_size = 4\n",
    "for image, labels in trainloader:\n",
    "    multilabel_matrix[i:i+batch_size] = labels\n",
    "    i += batch_size\n",
    "\n",
    "# multilabel_matrix[4:4+batch_size]"
   ]
  },
  {
   "cell_type": "code",
   "execution_count": 13,
   "metadata": {},
   "outputs": [
    {
     "data": {
      "text/plain": [
       "162770"
      ]
     },
     "execution_count": 13,
     "metadata": {},
     "output_type": "execute_result"
    }
   ],
   "source": [
    "len(celebData)"
   ]
  },
  {
   "cell_type": "code",
   "execution_count": 14,
   "metadata": {},
   "outputs": [],
   "source": [
    "correlation_matrix = np.corrcoef(np.array(multilabel_matrix), rowvar = False)\n",
    "corr_df = pd.DataFrame(correlation_matrix)\n",
    "corr_df.columns = celebData.attr_names"
   ]
  },
  {
   "cell_type": "code",
   "execution_count": 15,
   "metadata": {},
   "outputs": [
    {
     "data": {
      "text/plain": [
       "(40, 40)"
      ]
     },
     "execution_count": 15,
     "metadata": {},
     "output_type": "execute_result"
    }
   ],
   "source": [
    "correlation_matrix.shape"
   ]
  },
  {
   "cell_type": "code",
   "execution_count": 16,
   "metadata": {},
   "outputs": [
    {
     "data": {
      "text/plain": [
       "Text(0.5, 1.0, 'Train Multi-label correlation Heatmap')"
      ]
     },
     "execution_count": 16,
     "metadata": {},
     "output_type": "execute_result"
    },
    {
     "data": {
      "image/png": "[encoded data removed]",
      "text/plain": [
       "<Figure size 2160x1440 with 2 Axes>"
      ]
     },
     "metadata": {
      "needs_background": "light"
     },
     "output_type": "display_data"
    }
   ],
   "source": [
    "# Increase the size of the heatmap.\n",
    "plt.figure(figsize=(30, 20))\n",
    "# Store heatmap object in a variable to easily access it when you want to include more features (such as title).\n",
    "# Set the range of values to be displayed on the colormap from -1 to 1, and set the annotation to True to display the correlation values on the heatmap.\n",
    "heatmap = sns.heatmap(corr_df.corr(), annot=False)\n",
    "# Give a title to the heatmap. Pad defines the distance of the title from the top of the heatmap.\n",
    "heatmap.set_title('Train Multi-label correlation Heatmap', fontdict={'fontsize':12}, pad=12)"
   ]
  },
  {
   "attachments": {},
   "cell_type": "markdown",
   "metadata": {},
   "source": [
    "#### SBM"
   ]
  },
  {
   "cell_type": "code",
   "execution_count": 17,
   "metadata": {},
   "outputs": [],
   "source": [
    "from skmultilearn.cluster.graphtool import StochasticBlockModel"
   ]
  },
  {
   "cell_type": "code",
   "execution_count": 24,
   "metadata": {},
   "outputs": [],
   "source": [
    "sbm = StochasticBlockModel(\n",
    "    nested=False, use_degree_correlation=False, allow_overlap=False, weight_model=False\n",
    ")\n"
   ]
  },
  {
   "cell_type": "code",
   "execution_count": 25,
   "metadata": {},
   "outputs": [
    {
     "ename": "TypeError",
     "evalue": "minimize_blockmodel_dl() got an unexpected keyword argument 'deg_corr'",
     "output_type": "error",
     "traceback": [
      "\u001b[0;31m---------------------------------------------------------------------------\u001b[0m",
      "\u001b[0;31mTypeError\u001b[0m                                 Traceback (most recent call last)",
      "\u001b[1;32m/Users/jamahusseinmohamud/Desktop/research/DM research/large_scale_correlations/large_scale_task_correlation/notebooks/correlations_cluster_anal_celeb.ipynb Cell 21\u001b[0m in \u001b[0;36m<cell line: 1>\u001b[0;34m()\u001b[0m\n\u001b[0;32m----> <a href='vscode-notebook-cell:/Users/jamahusseinmohamud/Desktop/research/DM%20research/large_scale_correlations/large_scale_task_correlation/notebooks/correlations_cluster_anal_celeb.ipynb#X26sZmlsZQ%3D%3D?line=0'>1</a>\u001b[0m sbm\u001b[39m.\u001b[39;49mfit_predict(graph\u001b[39m=\u001b[39;49mcorrelation_matrix, weights\u001b[39m=\u001b[39;49m\u001b[39mNone\u001b[39;49;00m)\n",
      "File \u001b[0;32m~/miniconda3/envs/ltc/lib/python3.8/site-packages/skmultilearn/cluster/graphtool.py:73\u001b[0m, in \u001b[0;36mStochasticBlockModel.fit_predict\u001b[0;34m(self, graph, weights)\u001b[0m\n\u001b[1;32m     65\u001b[0m     \u001b[39mself\u001b[39m\u001b[39m.\u001b[39mmodel_ \u001b[39m=\u001b[39m \u001b[39mself\u001b[39m\u001b[39m.\u001b[39m_model_fit_function()(\n\u001b[1;32m     66\u001b[0m         graph,\n\u001b[1;32m     67\u001b[0m         deg_corr\u001b[39m=\u001b[39m\u001b[39mself\u001b[39m\u001b[39m.\u001b[39muse_degree_correlation,\n\u001b[0;32m   (...)\u001b[0m\n\u001b[1;32m     70\u001b[0m                         rec_types\u001b[39m=\u001b[39m[\u001b[39mself\u001b[39m\u001b[39m.\u001b[39mweight_model])\n\u001b[1;32m     71\u001b[0m     )\n\u001b[1;32m     72\u001b[0m \u001b[39melse\u001b[39;00m:\n\u001b[0;32m---> 73\u001b[0m     \u001b[39mself\u001b[39m\u001b[39m.\u001b[39mmodel_ \u001b[39m=\u001b[39m \u001b[39mself\u001b[39;49m\u001b[39m.\u001b[39;49m_model_fit_function()(\n\u001b[1;32m     74\u001b[0m         graph,\n\u001b[1;32m     75\u001b[0m         deg_corr\u001b[39m=\u001b[39;49m\u001b[39mself\u001b[39;49m\u001b[39m.\u001b[39;49muse_degree_correlation,\n\u001b[1;32m     76\u001b[0m         overlap\u001b[39m=\u001b[39;49m\u001b[39mself\u001b[39;49m\u001b[39m.\u001b[39;49mallow_overlap\n\u001b[1;32m     77\u001b[0m     )\n\u001b[1;32m     78\u001b[0m \u001b[39mreturn\u001b[39;00m \u001b[39mself\u001b[39m\u001b[39m.\u001b[39m_detect_communities()\n",
      "\u001b[0;31mTypeError\u001b[0m: minimize_blockmodel_dl() got an unexpected keyword argument 'deg_corr'"
     ]
    }
   ],
   "source": [
    "sbm.fit_predict(graph=correlation_matrix, weights=None)"
   ]
  },
  {
   "cell_type": "code",
   "execution_count": 34,
   "metadata": {},
   "outputs": [],
   "source": [
    "from graph_tool.all import *"
   ]
  },
  {
   "cell_type": "code",
   "execution_count": 37,
   "metadata": {},
   "outputs": [],
   "source": [
    "# m = np.array([[0, 1.2, 0],\n",
    "#               [0, 0, 10],\n",
    "#               [0, 7, 0]])\n",
    "# es = np.nonzero(m)\n",
    "# g = Graph(np.array([es[0], es[1], m[es]]).T, eprops=[(\"weight\", \"double\")])\n",
    "# print(g.ep.weight.a)"
   ]
  },
  {
   "cell_type": "code",
   "execution_count": 87,
   "metadata": {},
   "outputs": [
    {
     "name": "stdout",
     "output_type": "stream",
     "text": [
      "[ 1.         -0.15779338 -0.06623495 ...  0.02035452 -0.25128881\n",
      "  1.        ]\n"
     ]
    }
   ],
   "source": [
    "edge_index = np.nonzero(correlation_matrix)\n",
    "celeb_graph = Graph(np.array([edge_index[0], edge_index[1], correlation_matrix[edge_index]]).T,  eprops=[(\"weight\", \"double\")])\n",
    "print(celeb_graph.ep.weight.a)"
   ]
  },
  {
   "cell_type": "code",
   "execution_count": 86,
   "metadata": {},
   "outputs": [],
   "source": [
    "# celeb_graph.vertex_properties[\"pos\"] = celeb_graph.new_vertex_property(\"vector<double>\")\n",
    "# celeb_graph.vertex_properties"
   ]
  },
  {
   "cell_type": "code",
   "execution_count": 74,
   "metadata": {},
   "outputs": [],
   "source": [
    "# partition_labels = sbm.fit_predict(graph=celeb_graph, weights=None)\n",
    "# partition_labels"
   ]
  },
  {
   "cell_type": "code",
   "execution_count": 88,
   "metadata": {},
   "outputs": [
    {
     "data": {
      "text/plain": [
       "<BlockState object with 40 blocks (1 nonempty), degree-corrected, for graph <Graph object, directed, with 40 vertices and 1600 edges, 1 internal edge property, at 0x29171f640>, at 0x2917475e0>"
      ]
     },
     "execution_count": 88,
     "metadata": {},
     "output_type": "execute_result"
    }
   ],
   "source": [
    "state = minimize_blockmodel_dl(celeb_graph)\n",
    "state"
   ]
  },
  {
   "cell_type": "code",
   "execution_count": 102,
   "metadata": {},
   "outputs": [
    {
     "data": {
      "text/plain": [
       "<bound method BlockState.get_blocks of <BlockState object with 40 blocks (1 nonempty), degree-corrected, for graph <Graph object, directed, with 40 vertices and 1600 edges, 1 internal edge property, at 0x29171f640>, at 0x2917475e0>>"
      ]
     },
     "execution_count": 102,
     "metadata": {},
     "output_type": "execute_result"
    }
   ],
   "source": [
    "state.get_blocks"
   ]
  },
  {
   "cell_type": "code",
   "execution_count": 104,
   "metadata": {},
   "outputs": [
    {
     "data": {
      "text/plain": [
       "<VertexPropertyMap object with value type 'vector<double>', for Graph 0x29171f640, at 0x175845970>"
      ]
     },
     "execution_count": 104,
     "metadata": {},
     "output_type": "execute_result"
    }
   ],
   "source": [
    "pos = sfdp_layout(celeb_graph)\n",
    "pos"
   ]
  },
  {
   "cell_type": "code",
   "execution_count": 105,
   "metadata": {},
   "outputs": [],
   "source": [
    "celeb_graph.vp[\"pos\"] = pos"
   ]
  },
  {
   "cell_type": "code",
   "execution_count": 106,
   "metadata": {},
   "outputs": [
    {
     "data": {
      "text/plain": [
       "<VertexPropertyMap object with value type 'vector<double>', for Graph 0x29171f640, at 0x28cbfde20>"
      ]
     },
     "execution_count": 106,
     "metadata": {},
     "output_type": "execute_result"
    }
   ],
   "source": [
    "state.draw(pos=celeb_graph.vp[\"pos\"], vertex_shape=state.get_blocks(),\n",
    "           output=\"celeb_blocks_mdl.svg\")\n"
   ]
  },
  {
   "cell_type": "code",
   "execution_count": 1,
   "metadata": {},
   "outputs": [],
   "source": [
    "import numpy as np\n",
    "import graph_tool.all as gt\n",
    "\n",
    "# Define your correlation matrix\n",
    "# correlation_matrix = np.array([[1, 0.7, 0.3],\n",
    "#                                [0.7, 1, 0.4],\n",
    "#                                [0.3, 0.4, 1]])\n",
    "\n",
    "# Create a graph from the correlation matrix\n",
    "g = gt.Graph(directed=False)\n",
    "g.add_vertex(correlation_matrix.shape[0])\n",
    "\n",
    "# Add edges and edge weights\n",
    "eweight = g.new_edge_property(\"double\")\n",
    "for i in range(correlation_matrix.shape[0]):\n",
    "    for j in range(i + 1, correlation_matrix.shape[1]):\n",
    "        if correlation_matrix[i, j] != 0:\n",
    "            e = g.add_edge(i, j)\n",
    "            eweight[e] = correlation_matrix[i, j]\n",
    "\n",
    "# Set edge weight property\n",
    "g.ep[\"eweight\"] = eweight\n",
    "\n",
    "# Fit the Stochastic Block Model (SBM)\n",
    "state_args = {\"eweight\": eweight}  # Add eweight parameter to state_args\n",
    "state = gt.minimize_blockmodel_dl(g, state_args=state_args)\n",
    "state"
   ]
  },
  {
   "cell_type": "code",
   "execution_count": 112,
   "metadata": {},
   "outputs": [
    {
     "data": {
      "text/plain": [
       "<VertexPropertyMap object with value type 'vector<double>', for Graph 0x2917559a0, at 0x291798730>"
      ]
     },
     "execution_count": 112,
     "metadata": {},
     "output_type": "execute_result"
    }
   ],
   "source": [
    "# Compute the layout for the graph\n",
    "pos = gt.sfdp_layout(g, eweight=eweight)\n",
    "\n",
    "# Prepare the vertex text labels (optional)\n",
    "vertex_labels = [f\"Node {i}\" for i in range(correlation_matrix_toy.shape[0])]\n",
    "vlabel_prop = g.new_vertex_property(\"string\", vals=vertex_labels)\n",
    "\n",
    "# Draw the graph using the computed layout\n",
    "gt.graph_draw(\n",
    "    g,\n",
    "    pos=pos,\n",
    "    vertex_text=vlabel_prop,\n",
    "    vertex_font_size=14,\n",
    "    vertex_fill_color=state.get_blocks(),\n",
    "    edge_pen_width=gt.prop_to_size(eweight, mi=1, ma=5),\n",
    "    output=\"correlation_sbm_graph.pdf\"\n",
    ")"
   ]
  },
  {
   "attachments": {},
   "cell_type": "markdown",
   "metadata": {},
   "source": [
    "### laplacian clustering"
   ]
  },
  {
   "cell_type": "code",
   "execution_count": null,
   "metadata": {},
   "outputs": [],
   "source": []
  },
  {
   "cell_type": "code",
   "execution_count": null,
   "metadata": {},
   "outputs": [],
   "source": []
  },
  {
   "cell_type": "code",
   "execution_count": null,
   "metadata": {},
   "outputs": [],
   "source": []
  },
  {
   "attachments": {},
   "cell_type": "markdown",
   "metadata": {},
   "source": [
    "### random split labels into 50/50"
   ]
  },
  {
   "cell_type": "code",
   "execution_count": 2,
   "metadata": {},
   "outputs": [
    {
     "name": "stdout",
     "output_type": "stream",
     "text": [
      "Files already downloaded and verified\n"
     ]
    }
   ],
   "source": [
    "celebData = torchvision.datasets.CelebA(\n",
    "    \"datasets/\",\n",
    "    split=\"all\",\n",
    "    target_type=\"attr\",\n",
    "    transform=transforms.ToTensor(),\n",
    "    download=True,\n",
    ")\n",
    "celebData.attr_names.remove('')\n"
   ]
  },
  {
   "cell_type": "code",
   "execution_count": 3,
   "metadata": {},
   "outputs": [
    {
     "name": "stdout",
     "output_type": "stream",
     "text": [
      "['5_o_Clock_Shadow', 'Arched_Eyebrows', 'Attractive', 'Bags_Under_Eyes', 'Bald', 'Bangs', 'Big_Lips', 'Big_Nose', 'Black_Hair', 'Blond_Hair', 'Blurry', 'Brown_Hair', 'Bushy_Eyebrows', 'Chubby', 'Double_Chin', 'Eyeglasses', 'Goatee', 'Gray_Hair', 'Heavy_Makeup', 'High_Cheekbones', 'Male', 'Mouth_Slightly_Open', 'Mustache', 'Narrow_Eyes', 'No_Beard', 'Oval_Face', 'Pale_Skin', 'Pointy_Nose', 'Receding_Hairline', 'Rosy_Cheeks', 'Sideburns', 'Smiling', 'Straight_Hair', 'Wavy_Hair', 'Wearing_Earrings', 'Wearing_Hat', 'Wearing_Lipstick', 'Wearing_Necklace', 'Wearing_Necktie', 'Young']\n"
     ]
    }
   ],
   "source": [
    "print(celebData.attr_names)"
   ]
  },
  {
   "cell_type": "code",
   "execution_count": 4,
   "metadata": {},
   "outputs": [],
   "source": [
    "first_image_label = celebData[0]"
   ]
  },
  {
   "cell_type": "code",
   "execution_count": 5,
   "metadata": {},
   "outputs": [
    {
     "name": "stdout",
     "output_type": "stream",
     "text": [
      "['Arched_Eyebrows', 'Attractive', 'Brown_Hair', 'Heavy_Makeup', 'High_Cheekbones', 'Mouth_Slightly_Open', 'No_Beard', 'Pointy_Nose', 'Smiling', 'Straight_Hair', 'Wearing_Earrings', 'Wearing_Lipstick', 'Young']\n"
     ]
    }
   ],
   "source": [
    "# align image and labels\n",
    "image_label_names = [\n",
    "    celebData.attr_names[i]\n",
    "    for i in range(len(celebData.attr_names))\n",
    "    if first_image_label[1][i] == 1\n",
    "]\n",
    "print(image_label_names)\n"
   ]
  },
  {
   "cell_type": "code",
   "execution_count": 6,
   "metadata": {},
   "outputs": [
    {
     "data": {
      "image/png": "[encoded data removed]",
      "text/plain": [
       "<Figure size 432x288 with 1 Axes>"
      ]
     },
     "metadata": {
      "needs_background": "light"
     },
     "output_type": "display_data"
    }
   ],
   "source": [
    "# image = Image.open(first_image_label[0])\n",
    "plt.imshow(first_image_label[0].permute(1, 2, 0).numpy())\n",
    "plt.show()"
   ]
  },
  {
   "cell_type": "code",
   "execution_count": 24,
   "metadata": {},
   "outputs": [],
   "source": [
    "labels_names = np.array(celebData.attr_names)\n",
    "N = len(labels_names)\n",
    "indices = np.random.permutation(N)\n",
    "pret_idx, fine_idx = indices[:N//2], indices[N//2:]\n",
    "pretrain_labels, finetune_labels = labels_names[pret_idx], labels_names[fine_idx]"
   ]
  },
  {
   "cell_type": "code",
   "execution_count": 27,
   "metadata": {},
   "outputs": [
    {
     "data": {
      "text/plain": [
       "(20, 20)"
      ]
     },
     "execution_count": 27,
     "metadata": {},
     "output_type": "execute_result"
    }
   ],
   "source": [
    "len(pretrain_labels), len(finetune_labels)"
   ]
  },
  {
   "cell_type": "code",
   "execution_count": 25,
   "metadata": {},
   "outputs": [
    {
     "data": {
      "text/plain": [
       "array(['Narrow_Eyes', 'Eyeglasses', 'Heavy_Makeup', 'Wearing_Lipstick',\n",
       "       'Blurry', 'Wearing_Necklace', 'Pointy_Nose', 'Big_Nose',\n",
       "       'Oval_Face', 'Mustache', 'No_Beard', 'Bald', 'Attractive',\n",
       "       'Bags_Under_Eyes', 'Wearing_Hat', 'Rosy_Cheeks', 'High_Cheekbones',\n",
       "       'Bushy_Eyebrows', 'Mouth_Slightly_Open', 'Big_Lips'], dtype='<U19')"
      ]
     },
     "execution_count": 25,
     "metadata": {},
     "output_type": "execute_result"
    }
   ],
   "source": [
    "pretrain_labels"
   ]
  },
  {
   "cell_type": "code",
   "execution_count": 26,
   "metadata": {},
   "outputs": [
    {
     "data": {
      "text/plain": [
       "array(['Wavy_Hair', 'Arched_Eyebrows', 'Wearing_Earrings', 'Smiling',\n",
       "       'Brown_Hair', 'Wearing_Necktie', 'Gray_Hair', 'Double_Chin',\n",
       "       '5_o_Clock_Shadow', 'Sideburns', 'Straight_Hair', 'Chubby',\n",
       "       'Receding_Hairline', 'Goatee', 'Blond_Hair', 'Male', 'Black_Hair',\n",
       "       'Young', 'Bangs', 'Pale_Skin'], dtype='<U19')"
      ]
     },
     "execution_count": 26,
     "metadata": {},
     "output_type": "execute_result"
    }
   ],
   "source": [
    "finetune_labels"
   ]
  },
  {
   "cell_type": "code",
   "execution_count": 33,
   "metadata": {},
   "outputs": [],
   "source": [
    "# np.save(file=\"datasets/pretrain_labels.npy\", arr=pretrain_labels)\n",
    "# np.save(file=\"datasets/finetune_labels.npy\", arr=finetune_labels)\n",
    "\n"
   ]
  },
  {
   "cell_type": "code",
   "execution_count": 7,
   "metadata": {},
   "outputs": [],
   "source": [
    "pretrain_labels = np.load(file=\"datasets/pretrain_labels.npy\")\n",
    "finetune_labels = np.load(file=\"datasets/finetune_labels.npy\")"
   ]
  },
  {
   "cell_type": "code",
   "execution_count": 8,
   "metadata": {},
   "outputs": [
    {
     "data": {
      "text/plain": [
       "array(['Narrow_Eyes', 'Eyeglasses', 'Heavy_Makeup', 'Wearing_Lipstick',\n",
       "       'Blurry', 'Wearing_Necklace', 'Pointy_Nose', 'Big_Nose',\n",
       "       'Oval_Face', 'Mustache', 'No_Beard', 'Bald', 'Attractive',\n",
       "       'Bags_Under_Eyes', 'Wearing_Hat', 'Rosy_Cheeks', 'High_Cheekbones',\n",
       "       'Bushy_Eyebrows', 'Mouth_Slightly_Open', 'Big_Lips'], dtype='<U19')"
      ]
     },
     "execution_count": 8,
     "metadata": {},
     "output_type": "execute_result"
    }
   ],
   "source": [
    "pretrain_labels"
   ]
  },
  {
   "cell_type": "code",
   "execution_count": 9,
   "metadata": {},
   "outputs": [
    {
     "data": {
      "text/plain": [
       "array(['Wavy_Hair', 'Arched_Eyebrows', 'Wearing_Earrings', 'Smiling',\n",
       "       'Brown_Hair', 'Wearing_Necktie', 'Gray_Hair', 'Double_Chin',\n",
       "       '5_o_Clock_Shadow', 'Sideburns', 'Straight_Hair', 'Chubby',\n",
       "       'Receding_Hairline', 'Goatee', 'Blond_Hair', 'Male', 'Black_Hair',\n",
       "       'Young', 'Bangs', 'Pale_Skin'], dtype='<U19')"
      ]
     },
     "execution_count": 9,
     "metadata": {},
     "output_type": "execute_result"
    }
   ],
   "source": [
    "finetune_labels"
   ]
  },
  {
   "cell_type": "code",
   "execution_count": 10,
   "metadata": {},
   "outputs": [
    {
     "data": {
      "text/plain": [
       "tensor([0, 0, 1, 1, 0, 0, 1, 0, 0, 0, 1, 0, 1, 0, 0, 0, 1, 0, 1, 0])"
      ]
     },
     "execution_count": 10,
     "metadata": {},
     "output_type": "execute_result"
    }
   ],
   "source": [
    "torch.tensor([1 if pretrain_labels[i] in image_label_names else 0 for i in range(len(pretrain_labels))])"
   ]
  },
  {
   "cell_type": "code",
   "execution_count": 42,
   "metadata": {},
   "outputs": [
    {
     "data": {
      "text/plain": [
       "['Arched_Eyebrows',\n",
       " 'Attractive',\n",
       " 'Brown_Hair',\n",
       " 'Heavy_Makeup',\n",
       " 'High_Cheekbones',\n",
       " 'Mouth_Slightly_Open',\n",
       " 'No_Beard',\n",
       " 'Pointy_Nose',\n",
       " 'Smiling',\n",
       " 'Straight_Hair',\n",
       " 'Wearing_Earrings',\n",
       " 'Wearing_Lipstick',\n",
       " 'Young']"
      ]
     },
     "execution_count": 42,
     "metadata": {},
     "output_type": "execute_result"
    }
   ],
   "source": [
    "image_label_names"
   ]
  },
  {
   "cell_type": "code",
   "execution_count": 27,
   "metadata": {},
   "outputs": [
    {
     "data": {
      "text/plain": [
       "False"
      ]
     },
     "execution_count": 27,
     "metadata": {},
     "output_type": "execute_result"
    }
   ],
   "source": [
    "bool(set(pretrain_labels.tolist()) & set(finetune_labels.tolist()))\n"
   ]
  },
  {
   "attachments": {},
   "cell_type": "markdown",
   "metadata": {},
   "source": [
    "### random split dataloader"
   ]
  },
  {
   "cell_type": "code",
   "execution_count": 56,
   "metadata": {},
   "outputs": [],
   "source": [
    "class iterable_random_celeb_split(torch.utils.data.IterableDataset):\n",
    "    def __init__(\n",
    "        self,\n",
    "        data_path,\n",
    "        split=\"train\",\n",
    "        mode=\"pretrain\",\n",
    "        # batch_size=4,\n",
    "        transforms=transforms.ToTensor(),\n",
    "    ):\n",
    "        super(iterable_random_celeb_split).__init__()\n",
    "        self.celebData = torchvision.datasets.CelebA(\n",
    "            root=data_path,\n",
    "            split=split,\n",
    "            target_type=\"attr\",\n",
    "            transform=transforms,\n",
    "            download=True,\n",
    "        )\n",
    "        # remove empty label from label names.\n",
    "        self.celebData.attr_names.remove(\"\")\n",
    "        self.mode = mode\n",
    "        # self.batch_size = batch_size\n",
    "        # self._generator = self._make_generator()\n",
    "        self.used_idxs = set()\n",
    "        if self.mode == \"pretrain\":\n",
    "            self.labels = np.load(file=f\"{data_path}/pretrain_labels.npy\").tolist()\n",
    "        else:\n",
    "            self.labels = np.load(file=f\"{data_path}/finetune_labels.npy\").tolist()\n",
    "\n",
    "    # def __next__(self):\n",
    "    #     batch_images = []\n",
    "    #     batch_labels = []\n",
    "    #     for _ in range(self.batch_size):\n",
    "    #         image, image_label = next(self._generator)\n",
    "    #         batch_images.append(image)\n",
    "    #         batch_labels.append(image_label)\n",
    "    #     return torch.stack(batch_images), torch.stack(batch_labels)\n",
    "\n",
    "    def __iter__(self):\n",
    "        \"\"\"Makes a single example generator of the loaded data.\"\"\"\n",
    "        idx = 0\n",
    "        while True:\n",
    "            # This will reset the index to 0 if we are at the end of the dataset.\n",
    "            if idx == len(self.celebData):\n",
    "                idx = idx % len(self.celebData)\n",
    "                self.used_idxs = set()\n",
    "                return \n",
    "            image, image_labels, image_label_names = self.get_image_by_index(idx)\n",
    "            if not bool(image_label_names & set(self.labels)):\n",
    "                idx += 1\n",
    "                continue\n",
    "            if idx in self.used_idxs:\n",
    "                raise Exception(\n",
    "                    f\"Index: {idx} is already used and len used_idxs: {len(self.used_idxs)} and len celebdata: {len(self.celebData)}\"\n",
    "                )\n",
    "            self.used_idxs.add(idx)\n",
    "            idx += 1\n",
    "            image_labels = torch.tensor(\n",
    "                [\n",
    "                    1 if self.labels[i] in image_label_names else 0\n",
    "                    for i in range(len(self.labels))\n",
    "                ]\n",
    "            )\n",
    "            yield image, image_labels\n",
    "\n",
    "    @property\n",
    "    def nb_batches(self):\n",
    "        return len(self.celebData) // self.batch_size\n",
    "\n",
    "    # def _make_generator(self):\n",
    "    #     \"\"\"Makes a single example generator of the loaded data.\"\"\"\n",
    "    #     idx = 0\n",
    "    #     while True:\n",
    "    #         # This will reset the index to 0 if we are at the end of the dataset.\n",
    "    #         if idx == len(self.celebData):\n",
    "    #             idx = idx % len(self.celebData)\n",
    "    #             self.used_idxs = set()\n",
    "    #             return \n",
    "    #         image, image_labels, image_label_names = self.get_image_by_index(idx)\n",
    "    #         if not bool(image_label_names & set(self.labels)):\n",
    "    #             idx += 1\n",
    "    #             continue\n",
    "    #         if idx in self.used_idxs:\n",
    "    #             raise Exception(\n",
    "    #                 f\"Index: {idx} is already used and len used_idxs: {len(self.used_idxs)} and len celebdata: {len(self.celebData)}\"\n",
    "    #             )\n",
    "    #         self.used_idxs.add(idx)\n",
    "    #         idx += 1\n",
    "    #         image_labels = torch.tensor(\n",
    "    #             [\n",
    "    #                 1 if self.labels[i] in image_label_names else 0\n",
    "    #                 for i in range(len(self.labels))\n",
    "    #             ]\n",
    "    #         )\n",
    "    #         yield image, image_labels\n",
    "\n",
    "    def get_image_by_index(self, idx):\n",
    "        image, image_labels = self.celebData[idx]\n",
    "        # align image and labels\n",
    "        image_label_names = {\n",
    "            self.celebData.attr_names[i]\n",
    "            for i in range(len(self.celebData.attr_names))\n",
    "            if image_labels[i] == 1\n",
    "        }\n",
    "        return image, image_labels, image_label_names\n"
   ]
  },
  {
   "cell_type": "code",
   "execution_count": 57,
   "metadata": {},
   "outputs": [
    {
     "name": "stdout",
     "output_type": "stream",
     "text": [
      "Files already downloaded and verified\n",
      "Files already downloaded and verified\n"
     ]
    }
   ],
   "source": [
    "# mean and std stats\n",
    "mean = [0.485, 0.456, 0.406]\n",
    "std = [0.229, 0.224, 0.225]\n",
    "\n",
    "train_transform = transforms.Compose(\n",
    "    [\n",
    "        transforms.Resize(size=(64, 64)),\n",
    "        # transforms.RandomCrop(64, padding=4),\n",
    "        # transforms.RandomHorizontalFlip(),\n",
    "        transforms.ToTensor(),\n",
    "        transforms.Normalize(mean, std),\n",
    "    ]\n",
    ")\n",
    "\n",
    "val_transform = transforms.Compose(\n",
    "    [\n",
    "        transforms.Resize(size=(64, 64)),\n",
    "        transforms.ToTensor(),\n",
    "        transforms.Normalize(mean, std),\n",
    "    ]\n",
    ")\n",
    "\n",
    "celeb_train_data = iterable_random_celeb_split(\n",
    "    data_path=\"./data/celeb_datasets\",\n",
    "    split=\"train\",\n",
    "    mode=\"pretrain\",\n",
    "    # batch_size=128,\n",
    "    transforms=train_transform,\n",
    ")\n",
    "celeb_val_data = iterable_random_celeb_split(\n",
    "    data_path=\"./data/celeb_datasets\",\n",
    "    split=\"valid\",\n",
    "    mode=\"pretrain\",\n",
    "    # batch_size=128,\n",
    "    transforms=val_transform,\n",
    ")\n"
   ]
  },
  {
   "cell_type": "code",
   "execution_count": 60,
   "metadata": {},
   "outputs": [],
   "source": [
    "# celeb_train_data.nb_batches"
   ]
  },
  {
   "cell_type": "code",
   "execution_count": 52,
   "metadata": {},
   "outputs": [],
   "source": [
    "trainloader = torch.utils.data.DataLoader(celeb_train_data, batch_size=128)\n",
    "valloader = torch.utils.data.DataLoader(celeb_val_data, batch_size=None)"
   ]
  },
  {
   "cell_type": "code",
   "execution_count": 35,
   "metadata": {},
   "outputs": [
    {
     "data": {
      "text/plain": [
       "1271"
      ]
     },
     "execution_count": 35,
     "metadata": {},
     "output_type": "execute_result"
    }
   ],
   "source": [
    "trainloader.dataset.nb_batches"
   ]
  },
  {
   "cell_type": "code",
   "execution_count": 53,
   "metadata": {},
   "outputs": [
    {
     "name": "stdout",
     "output_type": "stream",
     "text": [
      "batch:  0 1271\n"
     ]
    }
   ],
   "source": [
    "for i, (images, labels) in enumerate(trainloader):\n",
    "    # print(images.shape)\n",
    "    # print(labels.shape)\n",
    "    # break\n",
    "    if i % 100 == 0:\n",
    "        print(\"batch: \", i, trainloader.dataset.nb_batches)\n",
    "    break"
   ]
  },
  {
   "cell_type": "code",
   "execution_count": 55,
   "metadata": {},
   "outputs": [
    {
     "data": {
      "text/plain": [
       "(torch.Size([128, 3, 64, 64]), torch.Size([128, 20]))"
      ]
     },
     "execution_count": 55,
     "metadata": {},
     "output_type": "execute_result"
    }
   ],
   "source": [
    "images.shape, labels.shape"
   ]
  },
  {
   "attachments": {},
   "cell_type": "markdown",
   "metadata": {},
   "source": [
    "### Model development"
   ]
  },
  {
   "cell_type": "code",
   "execution_count": 22,
   "metadata": {},
   "outputs": [
    {
     "data": {
      "text/plain": [
       "tensor([-0.1200,  0.1784, -0.5673, -0.6353,  0.3002, -0.6812,  0.7377, -0.0211,\n",
       "         0.6529, -0.2732, -0.2030,  1.3627,  0.0255,  0.5208, -0.2960, -0.0303,\n",
       "         1.1138,  0.3199,  0.2059,  0.9104], grad_fn=<SelectBackward0>)"
      ]
     },
     "execution_count": 22,
     "metadata": {},
     "output_type": "execute_result"
    }
   ],
   "source": [
    "model = ResNet18()\n",
    "\n",
    "np_classes = len(celeb_train_data.celebData.attr_names) // 2\n",
    "inp_features = model.linear.in_features\n",
    "model.linear = torch.nn.Linear(in_features=inp_features, out_features=np_classes)\n",
    "\n",
    "# test model on images\n",
    "outputs = model(images)\n",
    "outputs[0]\n"
   ]
  },
  {
   "cell_type": "code",
   "execution_count": 25,
   "metadata": {},
   "outputs": [
    {
     "data": {
      "text/plain": [
       "(torch.Size([128, 20]), torch.Size([128, 20]))"
      ]
     },
     "execution_count": 25,
     "metadata": {},
     "output_type": "execute_result"
    }
   ],
   "source": [
    "outputs.shape, labels.shape"
   ]
  },
  {
   "cell_type": "code",
   "execution_count": 26,
   "metadata": {},
   "outputs": [
    {
     "name": "stdout",
     "output_type": "stream",
     "text": [
      "loss: 0.7243784666061401\n"
     ]
    }
   ],
   "source": [
    "loss = torch.nn.BCEWithLogitsLoss()(outputs, labels.float())\n",
    "print(f'loss: {loss}')"
   ]
  },
  {
   "cell_type": "code",
   "execution_count": 33,
   "metadata": {},
   "outputs": [
    {
     "data": {
      "text/plain": [
       "tensor([[1., 1., 0.,  ..., 0., 0., 1.],\n",
       "        [1., 1., 0.,  ..., 1., 0., 1.],\n",
       "        [1., 1., 1.,  ..., 1., 0., 1.],\n",
       "        ...,\n",
       "        [1., 1., 0.,  ..., 0., 0., 1.],\n",
       "        [1., 1., 1.,  ..., 1., 0., 1.],\n",
       "        [1., 0., 0.,  ..., 1., 0., 1.]])"
      ]
     },
     "execution_count": 33,
     "metadata": {},
     "output_type": "execute_result"
    }
   ],
   "source": [
    "predicted = torch.round(torch.sigmoid(outputs))\n",
    "predicted.data"
   ]
  },
  {
   "cell_type": "code",
   "execution_count": 31,
   "metadata": {},
   "outputs": [
    {
     "data": {
      "text/plain": [
       "tensor([[0, 0, 1,  ..., 0, 1, 0],\n",
       "        [0, 0, 0,  ..., 0, 1, 0],\n",
       "        [1, 0, 0,  ..., 0, 0, 1],\n",
       "        ...,\n",
       "        [0, 0, 0,  ..., 0, 1, 0],\n",
       "        [0, 0, 0,  ..., 0, 0, 0],\n",
       "        [0, 0, 0,  ..., 1, 1, 0]])"
      ]
     },
     "execution_count": 31,
     "metadata": {},
     "output_type": "execute_result"
    }
   ],
   "source": [
    "labels"
   ]
  },
  {
   "cell_type": "code",
   "execution_count": 35,
   "metadata": {},
   "outputs": [
    {
     "data": {
      "text/plain": [
       "tensor(1349)"
      ]
     },
     "execution_count": 35,
     "metadata": {},
     "output_type": "execute_result"
    }
   ],
   "source": [
    "correct = predicted.data.eq(labels.data).cpu().sum()\n",
    "correct"
   ]
  },
  {
   "cell_type": "code",
   "execution_count": 72,
   "metadata": {},
   "outputs": [],
   "source": [
    "# Check that MPS is available\n",
    "if not torch.backends.mps.is_available():\n",
    "    if not torch.backends.mps.is_built():\n",
    "        print(\"MPS not available because the current PyTorch install was not \"\n",
    "              \"built with MPS enabled.\")\n",
    "    else:\n",
    "        print(\"MPS not available because the current MacOS version is not 12.3+ \"\n",
    "              \"and/or you do not have an MPS-enabled device on this machine.\")\n",
    "else:\n",
    "    mps_device = torch.device(\"mps\")"
   ]
  },
  {
   "cell_type": "code",
   "execution_count": 73,
   "metadata": {},
   "outputs": [
    {
     "name": "stdout",
     "output_type": "stream",
     "text": [
      "Using mps accelerator..\n"
     ]
    }
   ],
   "source": [
    "import os\n",
    "\n",
    "use_cuda = True\n",
    "result_folder = \"./resultsPretrain/\"\n",
    "if not os.path.exists(result_folder):\n",
    "    os.makedirs(result_folder)\n",
    "\n",
    "if use_cuda:\n",
    "    model.to(mps_device)\n",
    "    model = torch.nn.DataParallel(model)\n",
    "    print(\"Using mps accelerator..\")\n"
   ]
  },
  {
   "cell_type": "code",
   "execution_count": 74,
   "metadata": {},
   "outputs": [],
   "source": [
    "base_learning_rate = 0.0001\n",
    "criterion = torch.nn.BCEWithLogitsLoss()\n",
    "optimizer = torch.optim.SGD(\n",
    "    model.parameters(), lr=base_learning_rate, momentum=0.9, weight_decay=1e-4\n",
    ")\n"
   ]
  },
  {
   "cell_type": "code",
   "execution_count": 75,
   "metadata": {},
   "outputs": [],
   "source": [
    "def scores(y_true, y_pred):\n",
    "    AP = average_precision_score(y_true, y_pred, average='samples')\n",
    "    f1 = f1_score(y_true, y_pred, average='samples')\n",
    "    return AP, f1"
   ]
  },
  {
   "cell_type": "code",
   "execution_count": 76,
   "metadata": {},
   "outputs": [],
   "source": [
    "##@title Training & Test functions\n",
    "\n",
    "\n",
    "def train(model, trainset, epoch, np_classes):\n",
    "    print(\"\\nEpoch: %d\" % epoch)\n",
    "    model.train()\n",
    "    train_loss = 0\n",
    "    correct = 0\n",
    "    total = 0\n",
    "    predicted_labels = []\n",
    "    all_targets = []\n",
    "    trainloader = torch.utils.data.DataLoader(trainset, batch_size=None)\n",
    "    for batch_idx, (inputs, targets) in enumerate(trainloader):\n",
    "        if use_cuda:\n",
    "            inputs, targets = inputs.to(mps_device), targets.to(mps_device)\n",
    "\n",
    "        optimizer.zero_grad()\n",
    "        inputs, targets = Variable(inputs), Variable(targets.squeeze())\n",
    "        outputs = model(inputs)\n",
    "        loss = criterion(outputs.squeeze(), targets.float())\n",
    "        loss.backward()\n",
    "        optimizer.step()\n",
    "\n",
    "        train_loss += loss.item()\n",
    "        predicted = torch.round(torch.sigmoid(outputs))\n",
    "        all_targets.append(targets.detach().cpu())\n",
    "        predicted_labels.append(predicted.detach().cpu())\n",
    "        total += targets.size(0)\n",
    "        assert predicted.shape == targets.shape\n",
    "        correct += predicted.eq(targets.data).cpu().sum()\n",
    "\n",
    "        if batch_idx % 100 == 0:\n",
    "            print(\n",
    "                batch_idx,\n",
    "                trainloader.dataset.nb_batches,\n",
    "                \"Loss: %.3f | Acc: %.3f%% (%d/%d)\"\n",
    "                % (\n",
    "                    train_loss / (batch_idx + 1),\n",
    "                    100.0 * correct / (total * np_classes),\n",
    "                    correct,\n",
    "                    (total * np_classes),\n",
    "                ),\n",
    "            )\n",
    "\n",
    "    all_targets = np.concatenate(all_targets)\n",
    "    predicted_labels = np.concatenate(predicted_labels)\n",
    "    AP, f1 = scores(all_targets, predicted_labels)\n",
    "    return (\n",
    "        train_loss / batch_idx,\n",
    "        100.0 * correct / (total * np_classes),\n",
    "        100.0 * AP,\n",
    "        100.0 * f1,\n",
    "    )\n",
    "\n",
    "\n",
    "def test(model, epoch, validset, outModelName, np_classes):\n",
    "    global best_acc\n",
    "    model.eval()\n",
    "    test_loss = 0\n",
    "    correct = 0\n",
    "    total = 0\n",
    "    all_targets = []\n",
    "    predicted_labels = []\n",
    "    testloader = torch.utils.data.DataLoader(validset, batch_size=None)\n",
    "    with torch.no_grad():\n",
    "        for batch_idx, (inputs, targets) in enumerate(testloader):\n",
    "            if use_cuda:\n",
    "                inputs, targets = inputs.to(mps_device), targets.squeeze().to(\n",
    "                    mps_device\n",
    "                )\n",
    "\n",
    "            outputs = model(inputs)\n",
    "            loss = criterion(outputs.squeeze(), targets.float())\n",
    "\n",
    "            test_loss += loss.item()\n",
    "            predicted = torch.round(torch.sigmoid(outputs))\n",
    "            all_targets.append(targets.detach().cpu())\n",
    "            predicted_labels.append(predicted.detach().cpu())\n",
    "            total += targets.size(0)\n",
    "            correct += predicted.eq(targets.data).cpu().sum()\n",
    "\n",
    "            if batch_idx % 100 == 0:\n",
    "                print(\n",
    "                    batch_idx,\n",
    "                    testloader.dataset.nb_batches,\n",
    "                    \"Loss: %.3f | Acc: %.3f%% (%d/%d)\"\n",
    "                    % (\n",
    "                        test_loss / (batch_idx + 1),\n",
    "                        100.0 * correct / (total * np_classes),\n",
    "                        correct,\n",
    "                        (total * np_classes),\n",
    "                    ),\n",
    "                )\n",
    "\n",
    "    # Save checkpoint.\n",
    "    all_targets = np.concatenate(all_targets)\n",
    "    predicted_labels = np.concatenate(predicted_labels)\n",
    "    AP, f1 = scores(all_targets, predicted_labels)\n",
    "\n",
    "    acc = 100.0 * correct / (total * np_classes)\n",
    "    if acc > best_acc:\n",
    "        best_acc = acc\n",
    "        checkpoint(model, acc, epoch, outModelName)\n",
    "    return (\n",
    "        test_loss / batch_idx,\n",
    "        100.0 * correct / (total * np_classes),\n",
    "        100.0 * AP,\n",
    "        100.0 * f1,\n",
    "    )\n"
   ]
  },
  {
   "cell_type": "code",
   "execution_count": 77,
   "metadata": {},
   "outputs": [],
   "source": [
    "##@title checkpoint & adjust_learning_rate\n",
    "def checkpoint(model, acc, epoch, outModelName):\n",
    "    # Save checkpoint.\n",
    "    print('Saving..')\n",
    "    state = {\n",
    "        'state_dict': model.state_dict(),\n",
    "        'acc': acc,\n",
    "        'epoch': epoch,\n",
    "        'rng_state': torch.get_rng_state()\n",
    "    }\n",
    "    if not os.path.isdir('checkpointPretrain'):\n",
    "        os.mkdir('checkpointPretrain')\n",
    "    torch.save(state, f'./checkpointPretrain/{outModelName}.t7')\n",
    "\n",
    "def adjust_learning_rate(optimizer, epoch):\n",
    "    \"\"\"decrease the learning rate at 100 and 150 epoch\"\"\"\n",
    "    lr = base_learning_rate\n",
    "    if epoch <= 9 and lr > 0.1:\n",
    "        # warm-up training for large minibatch\n",
    "        lr = 0.1 + (base_learning_rate - 0.1) * epoch / 10.\n",
    "    if epoch >= 100:\n",
    "        lr /= 10\n",
    "    if epoch >= 150:\n",
    "        lr /= 10\n",
    "    for param_group in optimizer.param_groups:\n",
    "        param_group['lr'] = lr"
   ]
  },
  {
   "cell_type": "code",
   "execution_count": 78,
   "metadata": {},
   "outputs": [
    {
     "name": "stdout",
     "output_type": "stream",
     "text": [
      "\n",
      "Epoch: 0\n",
      "0 1271 Loss: 0.770 | Acc: 46.328% (1186/2560)\n",
      "100 1271 Loss: 0.681 | Acc: 57.156% (147783/258560)\n",
      "200 1271 Loss: 0.622 | Acc: 65.666% (337892/514560)\n",
      "300 1271 Loss: 0.584 | Acc: 69.755% (537504/770560)\n",
      "400 1271 Loss: 0.559 | Acc: 71.968% (738790/1026560)\n",
      "500 1271 Loss: 0.541 | Acc: 73.353% (940791/1282560)\n",
      "600 1271 Loss: 0.527 | Acc: 74.314% (1143364/1538560)\n",
      "700 1271 Loss: 0.517 | Acc: 75.042% (1346672/1794560)\n",
      "800 1271 Loss: 0.509 | Acc: 75.605% (1550327/2050560)\n",
      "900 1271 Loss: 0.502 | Acc: 76.067% (1754531/2306560)\n",
      "1000 1271 Loss: 0.496 | Acc: 76.468% (1959539/2562560)\n",
      "1100 1271 Loss: 0.491 | Acc: 76.807% (2164849/2818560)\n",
      "1200 1271 Loss: 0.486 | Acc: 77.104% (2370624/3074560)\n",
      "1300 1271 Loss: 0.482 | Acc: 77.387% (2577436/3330560)\n",
      "1400 1271 Loss: 0.479 | Acc: 77.641% (2784634/3586560)\n",
      "1500 1271 Loss: 0.475 | Acc: 77.877% (2992474/3842560)\n",
      "1600 1271 Loss: 0.472 | Acc: 78.090% (3200586/4098560)\n",
      "1700 1271 Loss: 0.469 | Acc: 78.292% (3409272/4354560)\n",
      "1800 1271 Loss: 0.466 | Acc: 78.479% (3618318/4610560)\n",
      "1900 1271 Loss: 0.464 | Acc: 78.654% (3827766/4866560)\n",
      "2000 1271 Loss: 0.461 | Acc: 78.815% (4037368/5122560)\n",
      "2100 1271 Loss: 0.459 | Acc: 78.968% (4247359/5378560)\n",
      "2200 1271 Loss: 0.457 | Acc: 79.107% (4457336/5634560)\n",
      "2300 1271 Loss: 0.455 | Acc: 79.240% (4667680/5890560)\n",
      "2400 1271 Loss: 0.453 | Acc: 79.365% (4878195/6146560)\n",
      "2500 1271 Loss: 0.451 | Acc: 79.482% (5088869/6402560)\n",
      "2600 1271 Loss: 0.449 | Acc: 79.602% (5300341/6658560)\n",
      "2700 1271 Loss: 0.447 | Acc: 79.711% (5511641/6914560)\n",
      "2800 1271 Loss: 0.445 | Acc: 79.817% (5723322/7170560)\n",
      "2900 1271 Loss: 0.443 | Acc: 79.919% (5935256/7426560)\n",
      "3000 1271 Loss: 0.442 | Acc: 80.022% (6147703/7682560)\n",
      "3100 1271 Loss: 0.440 | Acc: 80.115% (6359986/7938560)\n",
      "3200 1271 Loss: 0.438 | Acc: 80.205% (6572479/8194560)\n",
      "3300 1271 Loss: 0.437 | Acc: 80.292% (6785149/8450560)\n",
      "3400 1271 Loss: 0.435 | Acc: 80.376% (6997980/8706560)\n",
      "3500 1271 Loss: 0.434 | Acc: 80.455% (7210828/8962560)\n",
      "3600 1271 Loss: 0.432 | Acc: 80.529% (7423603/9218560)\n",
      "3700 1271 Loss: 0.431 | Acc: 80.598% (7636295/9474560)\n",
      "3800 1271 Loss: 0.430 | Acc: 80.671% (7849714/9730560)\n",
      "3900 1271 Loss: 0.428 | Acc: 80.741% (8063271/9986560)\n",
      "4000 1271 Loss: 0.427 | Acc: 80.807% (8276716/10242560)\n",
      "4100 1271 Loss: 0.426 | Acc: 80.872% (8490373/10498560)\n",
      "4200 1271 Loss: 0.424 | Acc: 80.936% (8704320/10754560)\n",
      "4300 1271 Loss: 0.423 | Acc: 80.999% (8918422/11010560)\n",
      "4400 1271 Loss: 0.422 | Acc: 81.058% (9132432/11266560)\n",
      "4500 1271 Loss: 0.421 | Acc: 81.115% (9346491/11522560)\n",
      "4600 1271 Loss: 0.420 | Acc: 81.172% (9560877/11778560)\n",
      "4700 1271 Loss: 0.419 | Acc: 81.224% (9774895/12034560)\n",
      "4800 1271 Loss: 0.418 | Acc: 81.275% (9989170/12290560)\n",
      "4900 1271 Loss: 0.417 | Acc: 81.325% (10203454/12546560)\n",
      "5000 1271 Loss: 0.416 | Acc: 81.372% (10417760/12802560)\n",
      "5100 1271 Loss: 0.415 | Acc: 81.422% (10632505/13058560)\n",
      "5200 1271 Loss: 0.414 | Acc: 81.469% (10847255/13314560)\n",
      "5300 1271 Loss: 0.413 | Acc: 81.515% (11062070/13570560)\n",
      "5400 1271 Loss: 0.412 | Acc: 81.560% (11276994/13826560)\n",
      "5500 1271 Loss: 0.411 | Acc: 81.606% (11492156/14082560)\n",
      "5600 1271 Loss: 0.410 | Acc: 81.649% (11707341/14338560)\n",
      "5700 1271 Loss: 0.409 | Acc: 81.692% (11922595/14594560)\n",
      "5800 1271 Loss: 0.409 | Acc: 81.734% (12137884/14850560)\n",
      "5900 1271 Loss: 0.408 | Acc: 81.775% (12353434/15106560)\n",
      "6000 1271 Loss: 0.407 | Acc: 81.814% (12568708/15362560)\n",
      "6100 1271 Loss: 0.406 | Acc: 81.853% (12784303/15618560)\n",
      "6200 1271 Loss: 0.405 | Acc: 81.889% (12999568/15874560)\n",
      "6300 1271 Loss: 0.405 | Acc: 81.926% (13215173/16130560)\n",
      "6400 1271 Loss: 0.404 | Acc: 81.964% (13431156/16386560)\n",
      "6500 1271 Loss: 0.403 | Acc: 82.001% (13647076/16642560)\n",
      "6600 1271 Loss: 0.402 | Acc: 82.037% (13863056/16898560)\n",
      "6700 1271 Loss: 0.402 | Acc: 82.073% (14079328/17154560)\n",
      "6800 1271 Loss: 0.401 | Acc: 82.110% (14295794/17410560)\n",
      "6900 1271 Loss: 0.400 | Acc: 82.144% (14512022/17666560)\n",
      "7000 1271 Loss: 0.399 | Acc: 82.179% (14728561/17922560)\n",
      "7100 1271 Loss: 0.399 | Acc: 82.212% (14945014/18178560)\n",
      "7200 1271 Loss: 0.398 | Acc: 82.245% (15161488/18434560)\n",
      "7300 1271 Loss: 0.397 | Acc: 82.278% (15378170/18690560)\n",
      "7400 1271 Loss: 0.397 | Acc: 82.310% (15594875/18946560)\n",
      "7500 1271 Loss: 0.396 | Acc: 82.339% (15811198/19202560)\n",
      "7600 1271 Loss: 0.395 | Acc: 82.372% (16028334/19458560)\n",
      "7700 1271 Loss: 0.395 | Acc: 82.403% (16245464/19714560)\n",
      "7800 1271 Loss: 0.394 | Acc: 82.434% (16462595/19970560)\n",
      "7900 1271 Loss: 0.394 | Acc: 82.465% (16679790/20226560)\n",
      "8000 1271 Loss: 0.393 | Acc: 82.495% (16897126/20482560)\n",
      "8100 1271 Loss: 0.392 | Acc: 82.525% (17114570/20738560)\n",
      "8200 1271 Loss: 0.392 | Acc: 82.554% (17331899/20994560)\n",
      "8300 1271 Loss: 0.391 | Acc: 82.584% (17549500/21250560)\n",
      "8400 1271 Loss: 0.391 | Acc: 82.612% (17766900/21506560)\n",
      "8500 1271 Loss: 0.390 | Acc: 82.639% (17984308/21762560)\n",
      "8600 1271 Loss: 0.389 | Acc: 82.667% (18202140/22018560)\n",
      "8700 1271 Loss: 0.389 | Acc: 82.694% (18419748/22274560)\n",
      "8800 1271 Loss: 0.388 | Acc: 82.720% (18637353/22530560)\n",
      "8900 1271 Loss: 0.388 | Acc: 82.749% (18855547/22786560)\n",
      "9000 1271 Loss: 0.387 | Acc: 82.775% (19073565/23042560)\n",
      "9100 1271 Loss: 0.387 | Acc: 82.802% (19291672/23298560)\n",
      "9200 1271 Loss: 0.386 | Acc: 82.828% (19509792/23554560)\n",
      "9300 1271 Loss: 0.386 | Acc: 82.854% (19728057/23810560)\n",
      "9400 1271 Loss: 0.385 | Acc: 82.879% (19946098/24066560)\n",
      "9500 1271 Loss: 0.385 | Acc: 82.905% (20164521/24322560)\n",
      "9600 1271 Loss: 0.384 | Acc: 82.929% (20382748/24578560)\n",
      "9700 1271 Loss: 0.384 | Acc: 82.953% (20601114/24834560)\n",
      "9800 1271 Loss: 0.383 | Acc: 82.977% (20819402/25090560)\n",
      "9900 1271 Loss: 0.383 | Acc: 83.001% (21037819/25346560)\n",
      "10000 1271 Loss: 0.382 | Acc: 83.023% (21255946/25602560)\n",
      "10100 1271 Loss: 0.382 | Acc: 83.046% (21474556/25858560)\n",
      "10200 1271 Loss: 0.381 | Acc: 83.070% (21693330/26114560)\n",
      "10300 1271 Loss: 0.381 | Acc: 83.093% (21912057/26370560)\n",
      "10400 1271 Loss: 0.380 | Acc: 83.115% (22130746/26626560)\n",
      "10500 1271 Loss: 0.380 | Acc: 83.137% (22349451/26882560)\n",
      "10600 1271 Loss: 0.379 | Acc: 83.160% (22568464/27138560)\n",
      "10700 1271 Loss: 0.379 | Acc: 83.181% (22787167/27394560)\n",
      "10800 1271 Loss: 0.378 | Acc: 83.203% (23006120/27650560)\n",
      "10900 1271 Loss: 0.378 | Acc: 83.224% (23225070/27906560)\n",
      "11000 1271 Loss: 0.377 | Acc: 83.245% (23443943/28162560)\n",
      "11100 1271 Loss: 0.377 | Acc: 83.266% (23663025/28418560)\n",
      "11200 1271 Loss: 0.377 | Acc: 83.286% (23881894/28674560)\n",
      "11300 1271 Loss: 0.376 | Acc: 83.305% (24100548/28930560)\n",
      "11400 1271 Loss: 0.376 | Acc: 83.326% (24319907/29186560)\n",
      "11500 1271 Loss: 0.375 | Acc: 83.346% (24539253/29442560)\n"
     ]
    },
    {
     "ename": "KeyboardInterrupt",
     "evalue": "",
     "output_type": "error",
     "traceback": [
      "\u001b[0;31m---------------------------------------------------------------------------\u001b[0m",
      "\u001b[0;31mKeyboardInterrupt\u001b[0m                         Traceback (most recent call last)",
      "\u001b[1;32m/Users/jamahusseinmohamud/Desktop/research/DM research/large_scale_correlations/correlations_cluster_anal_celeb.ipynb Cell 54\u001b[0m in \u001b[0;36m<cell line: 21>\u001b[0;34m()\u001b[0m\n\u001b[1;32m     <a href='vscode-notebook-cell:/Users/jamahusseinmohamud/Desktop/research/DM%20research/large_scale_correlations/correlations_cluster_anal_celeb.ipynb#Y103sZmlsZQ%3D%3D?line=20'>21</a>\u001b[0m \u001b[39mfor\u001b[39;00m epoch \u001b[39min\u001b[39;00m \u001b[39mrange\u001b[39m(max_epochs):\n\u001b[1;32m     <a href='vscode-notebook-cell:/Users/jamahusseinmohamud/Desktop/research/DM%20research/large_scale_correlations/correlations_cluster_anal_celeb.ipynb#Y103sZmlsZQ%3D%3D?line=21'>22</a>\u001b[0m     adjust_learning_rate(optimizer, epoch)\n\u001b[0;32m---> <a href='vscode-notebook-cell:/Users/jamahusseinmohamud/Desktop/research/DM%20research/large_scale_correlations/correlations_cluster_anal_celeb.ipynb#Y103sZmlsZQ%3D%3D?line=22'>23</a>\u001b[0m     train_loss, train_acc, train_AP, train_f1 \u001b[39m=\u001b[39m train(\n\u001b[1;32m     <a href='vscode-notebook-cell:/Users/jamahusseinmohamud/Desktop/research/DM%20research/large_scale_correlations/correlations_cluster_anal_celeb.ipynb#Y103sZmlsZQ%3D%3D?line=23'>24</a>\u001b[0m         model, epoch, np_classes\u001b[39m=\u001b[39;49mnp_classes\n\u001b[1;32m     <a href='vscode-notebook-cell:/Users/jamahusseinmohamud/Desktop/research/DM%20research/large_scale_correlations/correlations_cluster_anal_celeb.ipynb#Y103sZmlsZQ%3D%3D?line=24'>25</a>\u001b[0m     )\n\u001b[1;32m     <a href='vscode-notebook-cell:/Users/jamahusseinmohamud/Desktop/research/DM%20research/large_scale_correlations/correlations_cluster_anal_celeb.ipynb#Y103sZmlsZQ%3D%3D?line=25'>26</a>\u001b[0m     test_loss, test_acc, test_AP, test_f1 \u001b[39m=\u001b[39m test(\n\u001b[1;32m     <a href='vscode-notebook-cell:/Users/jamahusseinmohamud/Desktop/research/DM%20research/large_scale_correlations/correlations_cluster_anal_celeb.ipynb#Y103sZmlsZQ%3D%3D?line=26'>27</a>\u001b[0m         model, epoch, outModelName, np_classes\u001b[39m=\u001b[39mnp_classes\n\u001b[1;32m     <a href='vscode-notebook-cell:/Users/jamahusseinmohamud/Desktop/research/DM%20research/large_scale_correlations/correlations_cluster_anal_celeb.ipynb#Y103sZmlsZQ%3D%3D?line=27'>28</a>\u001b[0m     )\n\u001b[1;32m     <a href='vscode-notebook-cell:/Users/jamahusseinmohamud/Desktop/research/DM%20research/large_scale_correlations/correlations_cluster_anal_celeb.ipynb#Y103sZmlsZQ%3D%3D?line=28'>29</a>\u001b[0m     \u001b[39mwith\u001b[39;00m \u001b[39mopen\u001b[39m(logname, \u001b[39m\"\u001b[39m\u001b[39ma\u001b[39m\u001b[39m\"\u001b[39m) \u001b[39mas\u001b[39;00m logfile:\n",
      "\u001b[1;32m/Users/jamahusseinmohamud/Desktop/research/DM research/large_scale_correlations/correlations_cluster_anal_celeb.ipynb Cell 54\u001b[0m in \u001b[0;36mtrain\u001b[0;34m(model, epoch, np_classes)\u001b[0m\n\u001b[1;32m      <a href='vscode-notebook-cell:/Users/jamahusseinmohamud/Desktop/research/DM%20research/large_scale_correlations/correlations_cluster_anal_celeb.ipynb#Y103sZmlsZQ%3D%3D?line=8'>9</a>\u001b[0m predicted_labels \u001b[39m=\u001b[39m []\n\u001b[1;32m     <a href='vscode-notebook-cell:/Users/jamahusseinmohamud/Desktop/research/DM%20research/large_scale_correlations/correlations_cluster_anal_celeb.ipynb#Y103sZmlsZQ%3D%3D?line=9'>10</a>\u001b[0m all_targets \u001b[39m=\u001b[39m []\n\u001b[0;32m---> <a href='vscode-notebook-cell:/Users/jamahusseinmohamud/Desktop/research/DM%20research/large_scale_correlations/correlations_cluster_anal_celeb.ipynb#Y103sZmlsZQ%3D%3D?line=10'>11</a>\u001b[0m \u001b[39mfor\u001b[39;00m batch_idx, (inputs, targets) \u001b[39min\u001b[39;00m \u001b[39menumerate\u001b[39m(trainloader):\n\u001b[1;32m     <a href='vscode-notebook-cell:/Users/jamahusseinmohamud/Desktop/research/DM%20research/large_scale_correlations/correlations_cluster_anal_celeb.ipynb#Y103sZmlsZQ%3D%3D?line=11'>12</a>\u001b[0m     \u001b[39mif\u001b[39;00m use_cuda:\n\u001b[1;32m     <a href='vscode-notebook-cell:/Users/jamahusseinmohamud/Desktop/research/DM%20research/large_scale_correlations/correlations_cluster_anal_celeb.ipynb#Y103sZmlsZQ%3D%3D?line=12'>13</a>\u001b[0m         inputs, targets \u001b[39m=\u001b[39m inputs\u001b[39m.\u001b[39mto(mps_device), targets\u001b[39m.\u001b[39mto(mps_device)\n",
      "File \u001b[0;32m~/miniconda3/envs/ltc/lib/python3.8/site-packages/torch/utils/data/dataloader.py:634\u001b[0m, in \u001b[0;36m_BaseDataLoaderIter.__next__\u001b[0;34m(self)\u001b[0m\n\u001b[1;32m    631\u001b[0m \u001b[39mif\u001b[39;00m \u001b[39mself\u001b[39m\u001b[39m.\u001b[39m_sampler_iter \u001b[39mis\u001b[39;00m \u001b[39mNone\u001b[39;00m:\n\u001b[1;32m    632\u001b[0m     \u001b[39m# TODO(https://github.com/pytorch/pytorch/issues/76750)\u001b[39;00m\n\u001b[1;32m    633\u001b[0m     \u001b[39mself\u001b[39m\u001b[39m.\u001b[39m_reset()  \u001b[39m# type: ignore[call-arg]\u001b[39;00m\n\u001b[0;32m--> 634\u001b[0m data \u001b[39m=\u001b[39m \u001b[39mself\u001b[39;49m\u001b[39m.\u001b[39;49m_next_data()\n\u001b[1;32m    635\u001b[0m \u001b[39mself\u001b[39m\u001b[39m.\u001b[39m_num_yielded \u001b[39m+\u001b[39m\u001b[39m=\u001b[39m \u001b[39m1\u001b[39m\n\u001b[1;32m    636\u001b[0m \u001b[39mif\u001b[39;00m \u001b[39mself\u001b[39m\u001b[39m.\u001b[39m_dataset_kind \u001b[39m==\u001b[39m _DatasetKind\u001b[39m.\u001b[39mIterable \u001b[39mand\u001b[39;00m \\\n\u001b[1;32m    637\u001b[0m         \u001b[39mself\u001b[39m\u001b[39m.\u001b[39m_IterableDataset_len_called \u001b[39mis\u001b[39;00m \u001b[39mnot\u001b[39;00m \u001b[39mNone\u001b[39;00m \u001b[39mand\u001b[39;00m \\\n\u001b[1;32m    638\u001b[0m         \u001b[39mself\u001b[39m\u001b[39m.\u001b[39m_num_yielded \u001b[39m>\u001b[39m \u001b[39mself\u001b[39m\u001b[39m.\u001b[39m_IterableDataset_len_called:\n",
      "File \u001b[0;32m~/miniconda3/envs/ltc/lib/python3.8/site-packages/torch/utils/data/dataloader.py:678\u001b[0m, in \u001b[0;36m_SingleProcessDataLoaderIter._next_data\u001b[0;34m(self)\u001b[0m\n\u001b[1;32m    676\u001b[0m \u001b[39mdef\u001b[39;00m \u001b[39m_next_data\u001b[39m(\u001b[39mself\u001b[39m):\n\u001b[1;32m    677\u001b[0m     index \u001b[39m=\u001b[39m \u001b[39mself\u001b[39m\u001b[39m.\u001b[39m_next_index()  \u001b[39m# may raise StopIteration\u001b[39;00m\n\u001b[0;32m--> 678\u001b[0m     data \u001b[39m=\u001b[39m \u001b[39mself\u001b[39;49m\u001b[39m.\u001b[39;49m_dataset_fetcher\u001b[39m.\u001b[39;49mfetch(index)  \u001b[39m# may raise StopIteration\u001b[39;00m\n\u001b[1;32m    679\u001b[0m     \u001b[39mif\u001b[39;00m \u001b[39mself\u001b[39m\u001b[39m.\u001b[39m_pin_memory:\n\u001b[1;32m    680\u001b[0m         data \u001b[39m=\u001b[39m _utils\u001b[39m.\u001b[39mpin_memory\u001b[39m.\u001b[39mpin_memory(data, \u001b[39mself\u001b[39m\u001b[39m.\u001b[39m_pin_memory_device)\n",
      "File \u001b[0;32m~/miniconda3/envs/ltc/lib/python3.8/site-packages/torch/utils/data/_utils/fetch.py:41\u001b[0m, in \u001b[0;36m_IterableDatasetFetcher.fetch\u001b[0;34m(self, possibly_batched_index)\u001b[0m\n\u001b[1;32m     39\u001b[0m         \u001b[39mraise\u001b[39;00m \u001b[39mStopIteration\u001b[39;00m\n\u001b[1;32m     40\u001b[0m \u001b[39melse\u001b[39;00m:\n\u001b[0;32m---> 41\u001b[0m     data \u001b[39m=\u001b[39m \u001b[39mnext\u001b[39;49m(\u001b[39mself\u001b[39;49m\u001b[39m.\u001b[39;49mdataset_iter)\n\u001b[1;32m     42\u001b[0m \u001b[39mreturn\u001b[39;00m \u001b[39mself\u001b[39m\u001b[39m.\u001b[39mcollate_fn(data)\n",
      "\u001b[1;32m/Users/jamahusseinmohamud/Desktop/research/DM research/large_scale_correlations/correlations_cluster_anal_celeb.ipynb Cell 54\u001b[0m in \u001b[0;36miterable_random_celeb_split.__next__\u001b[0;34m(self)\u001b[0m\n\u001b[1;32m     <a href='vscode-notebook-cell:/Users/jamahusseinmohamud/Desktop/research/DM%20research/large_scale_correlations/correlations_cluster_anal_celeb.ipynb#Y103sZmlsZQ%3D%3D?line=30'>31</a>\u001b[0m batch_labels \u001b[39m=\u001b[39m []\n\u001b[1;32m     <a href='vscode-notebook-cell:/Users/jamahusseinmohamud/Desktop/research/DM%20research/large_scale_correlations/correlations_cluster_anal_celeb.ipynb#Y103sZmlsZQ%3D%3D?line=31'>32</a>\u001b[0m \u001b[39mfor\u001b[39;00m _ \u001b[39min\u001b[39;00m \u001b[39mrange\u001b[39m(\u001b[39mself\u001b[39m\u001b[39m.\u001b[39mbatch_size):\n\u001b[0;32m---> <a href='vscode-notebook-cell:/Users/jamahusseinmohamud/Desktop/research/DM%20research/large_scale_correlations/correlations_cluster_anal_celeb.ipynb#Y103sZmlsZQ%3D%3D?line=32'>33</a>\u001b[0m     image, image_label \u001b[39m=\u001b[39m \u001b[39mnext\u001b[39;49m(\u001b[39mself\u001b[39;49m\u001b[39m.\u001b[39;49m_generator)\n\u001b[1;32m     <a href='vscode-notebook-cell:/Users/jamahusseinmohamud/Desktop/research/DM%20research/large_scale_correlations/correlations_cluster_anal_celeb.ipynb#Y103sZmlsZQ%3D%3D?line=33'>34</a>\u001b[0m     batch_images\u001b[39m.\u001b[39mappend(image)\n\u001b[1;32m     <a href='vscode-notebook-cell:/Users/jamahusseinmohamud/Desktop/research/DM%20research/large_scale_correlations/correlations_cluster_anal_celeb.ipynb#Y103sZmlsZQ%3D%3D?line=34'>35</a>\u001b[0m     batch_labels\u001b[39m.\u001b[39mappend(image_label)\n",
      "\u001b[1;32m/Users/jamahusseinmohamud/Desktop/research/DM research/large_scale_correlations/correlations_cluster_anal_celeb.ipynb Cell 54\u001b[0m in \u001b[0;36miterable_random_celeb_split._make_generator\u001b[0;34m(self)\u001b[0m\n\u001b[1;32m     <a href='vscode-notebook-cell:/Users/jamahusseinmohamud/Desktop/research/DM%20research/large_scale_correlations/correlations_cluster_anal_celeb.ipynb#Y103sZmlsZQ%3D%3D?line=50'>51</a>\u001b[0m     idx \u001b[39m=\u001b[39m idx \u001b[39m%\u001b[39m \u001b[39mlen\u001b[39m(\u001b[39mself\u001b[39m\u001b[39m.\u001b[39mcelebData)\n\u001b[1;32m     <a href='vscode-notebook-cell:/Users/jamahusseinmohamud/Desktop/research/DM%20research/large_scale_correlations/correlations_cluster_anal_celeb.ipynb#Y103sZmlsZQ%3D%3D?line=51'>52</a>\u001b[0m     \u001b[39mself\u001b[39m\u001b[39m.\u001b[39mused_idxs \u001b[39m=\u001b[39m \u001b[39mset\u001b[39m()\n\u001b[0;32m---> <a href='vscode-notebook-cell:/Users/jamahusseinmohamud/Desktop/research/DM%20research/large_scale_correlations/correlations_cluster_anal_celeb.ipynb#Y103sZmlsZQ%3D%3D?line=52'>53</a>\u001b[0m image, image_labels, image_label_names \u001b[39m=\u001b[39m \u001b[39mself\u001b[39;49m\u001b[39m.\u001b[39;49mget_image_by_index(idx)\n\u001b[1;32m     <a href='vscode-notebook-cell:/Users/jamahusseinmohamud/Desktop/research/DM%20research/large_scale_correlations/correlations_cluster_anal_celeb.ipynb#Y103sZmlsZQ%3D%3D?line=53'>54</a>\u001b[0m \u001b[39mif\u001b[39;00m \u001b[39mnot\u001b[39;00m \u001b[39mbool\u001b[39m(image_label_names \u001b[39m&\u001b[39m \u001b[39mset\u001b[39m(\u001b[39mself\u001b[39m\u001b[39m.\u001b[39mlabels)):\n\u001b[1;32m     <a href='vscode-notebook-cell:/Users/jamahusseinmohamud/Desktop/research/DM%20research/large_scale_correlations/correlations_cluster_anal_celeb.ipynb#Y103sZmlsZQ%3D%3D?line=54'>55</a>\u001b[0m     idx \u001b[39m+\u001b[39m\u001b[39m=\u001b[39m \u001b[39m1\u001b[39m\n",
      "\u001b[1;32m/Users/jamahusseinmohamud/Desktop/research/DM research/large_scale_correlations/correlations_cluster_anal_celeb.ipynb Cell 54\u001b[0m in \u001b[0;36miterable_random_celeb_split.get_image_by_index\u001b[0;34m(self, idx)\u001b[0m\n\u001b[1;32m     <a href='vscode-notebook-cell:/Users/jamahusseinmohamud/Desktop/research/DM%20research/large_scale_correlations/correlations_cluster_anal_celeb.ipynb#Y103sZmlsZQ%3D%3D?line=71'>72</a>\u001b[0m image, image_labels \u001b[39m=\u001b[39m \u001b[39mself\u001b[39m\u001b[39m.\u001b[39mcelebData[idx]\n\u001b[1;32m     <a href='vscode-notebook-cell:/Users/jamahusseinmohamud/Desktop/research/DM%20research/large_scale_correlations/correlations_cluster_anal_celeb.ipynb#Y103sZmlsZQ%3D%3D?line=72'>73</a>\u001b[0m \u001b[39m# align image and labels\u001b[39;00m\n\u001b[0;32m---> <a href='vscode-notebook-cell:/Users/jamahusseinmohamud/Desktop/research/DM%20research/large_scale_correlations/correlations_cluster_anal_celeb.ipynb#Y103sZmlsZQ%3D%3D?line=73'>74</a>\u001b[0m image_label_names \u001b[39m=\u001b[39m {\n\u001b[1;32m     <a href='vscode-notebook-cell:/Users/jamahusseinmohamud/Desktop/research/DM%20research/large_scale_correlations/correlations_cluster_anal_celeb.ipynb#Y103sZmlsZQ%3D%3D?line=74'>75</a>\u001b[0m     \u001b[39mself\u001b[39m\u001b[39m.\u001b[39mcelebData\u001b[39m.\u001b[39mattr_names[i]\n\u001b[1;32m     <a href='vscode-notebook-cell:/Users/jamahusseinmohamud/Desktop/research/DM%20research/large_scale_correlations/correlations_cluster_anal_celeb.ipynb#Y103sZmlsZQ%3D%3D?line=75'>76</a>\u001b[0m     \u001b[39mfor\u001b[39;00m i \u001b[39min\u001b[39;00m \u001b[39mrange\u001b[39m(\u001b[39mlen\u001b[39m(\u001b[39mself\u001b[39m\u001b[39m.\u001b[39mcelebData\u001b[39m.\u001b[39mattr_names))\n\u001b[1;32m     <a href='vscode-notebook-cell:/Users/jamahusseinmohamud/Desktop/research/DM%20research/large_scale_correlations/correlations_cluster_anal_celeb.ipynb#Y103sZmlsZQ%3D%3D?line=76'>77</a>\u001b[0m     \u001b[39mif\u001b[39;00m image_labels[i] \u001b[39m==\u001b[39m \u001b[39m1\u001b[39m\n\u001b[1;32m     <a href='vscode-notebook-cell:/Users/jamahusseinmohamud/Desktop/research/DM%20research/large_scale_correlations/correlations_cluster_anal_celeb.ipynb#Y103sZmlsZQ%3D%3D?line=77'>78</a>\u001b[0m }\n\u001b[1;32m     <a href='vscode-notebook-cell:/Users/jamahusseinmohamud/Desktop/research/DM%20research/large_scale_correlations/correlations_cluster_anal_celeb.ipynb#Y103sZmlsZQ%3D%3D?line=78'>79</a>\u001b[0m \u001b[39mreturn\u001b[39;00m image, image_labels, image_label_names\n",
      "\u001b[1;32m/Users/jamahusseinmohamud/Desktop/research/DM research/large_scale_correlations/correlations_cluster_anal_celeb.ipynb Cell 54\u001b[0m in \u001b[0;36m<setcomp>\u001b[0;34m(.0)\u001b[0m\n\u001b[1;32m     <a href='vscode-notebook-cell:/Users/jamahusseinmohamud/Desktop/research/DM%20research/large_scale_correlations/correlations_cluster_anal_celeb.ipynb#Y103sZmlsZQ%3D%3D?line=71'>72</a>\u001b[0m image, image_labels \u001b[39m=\u001b[39m \u001b[39mself\u001b[39m\u001b[39m.\u001b[39mcelebData[idx]\n\u001b[1;32m     <a href='vscode-notebook-cell:/Users/jamahusseinmohamud/Desktop/research/DM%20research/large_scale_correlations/correlations_cluster_anal_celeb.ipynb#Y103sZmlsZQ%3D%3D?line=72'>73</a>\u001b[0m \u001b[39m# align image and labels\u001b[39;00m\n\u001b[1;32m     <a href='vscode-notebook-cell:/Users/jamahusseinmohamud/Desktop/research/DM%20research/large_scale_correlations/correlations_cluster_anal_celeb.ipynb#Y103sZmlsZQ%3D%3D?line=73'>74</a>\u001b[0m image_label_names \u001b[39m=\u001b[39m {\n\u001b[1;32m     <a href='vscode-notebook-cell:/Users/jamahusseinmohamud/Desktop/research/DM%20research/large_scale_correlations/correlations_cluster_anal_celeb.ipynb#Y103sZmlsZQ%3D%3D?line=74'>75</a>\u001b[0m     \u001b[39mself\u001b[39m\u001b[39m.\u001b[39mcelebData\u001b[39m.\u001b[39mattr_names[i]\n\u001b[1;32m     <a href='vscode-notebook-cell:/Users/jamahusseinmohamud/Desktop/research/DM%20research/large_scale_correlations/correlations_cluster_anal_celeb.ipynb#Y103sZmlsZQ%3D%3D?line=75'>76</a>\u001b[0m     \u001b[39mfor\u001b[39;00m i \u001b[39min\u001b[39;00m \u001b[39mrange\u001b[39m(\u001b[39mlen\u001b[39m(\u001b[39mself\u001b[39m\u001b[39m.\u001b[39mcelebData\u001b[39m.\u001b[39mattr_names))\n\u001b[0;32m---> <a href='vscode-notebook-cell:/Users/jamahusseinmohamud/Desktop/research/DM%20research/large_scale_correlations/correlations_cluster_anal_celeb.ipynb#Y103sZmlsZQ%3D%3D?line=76'>77</a>\u001b[0m     \u001b[39mif\u001b[39;00m image_labels[i] \u001b[39m==\u001b[39m \u001b[39m1\u001b[39m\n\u001b[1;32m     <a href='vscode-notebook-cell:/Users/jamahusseinmohamud/Desktop/research/DM%20research/large_scale_correlations/correlations_cluster_anal_celeb.ipynb#Y103sZmlsZQ%3D%3D?line=77'>78</a>\u001b[0m }\n\u001b[1;32m     <a href='vscode-notebook-cell:/Users/jamahusseinmohamud/Desktop/research/DM%20research/large_scale_correlations/correlations_cluster_anal_celeb.ipynb#Y103sZmlsZQ%3D%3D?line=78'>79</a>\u001b[0m \u001b[39mreturn\u001b[39;00m image, image_labels, image_label_names\n",
      "\u001b[0;31mKeyboardInterrupt\u001b[0m: "
     ]
    }
   ],
   "source": [
    "##@title start training\n",
    "\n",
    "best_acc = float('-inf')\n",
    "max_epochs = 20\n",
    "outModelName = \"pretrain\"\n",
    "logname = result_folder + model.__class__.__name__ + \"_pretrain\" + \".csv\"\n",
    "if not os.path.exists(logname):\n",
    "    with open(logname, \"w\") as logfile:\n",
    "        logwriter = csv.writer(logfile, delimiter=\",\")\n",
    "        logwriter.writerow(\n",
    "            [\n",
    "                \"epoch\",\n",
    "                \"train loss\",\n",
    "                \"train acc\",\n",
    "                \"test loss\",\n",
    "                \"test acc\",\n",
    "                \"train F1\",\n",
    "                \"test F1\",\n",
    "            ]\n",
    "        )\n",
    "\n",
    "for epoch in range(max_epochs):\n",
    "    adjust_learning_rate(optimizer, epoch)\n",
    "    train_loss, train_acc, train_AP, train_f1 = train(\n",
    "        model, epoch, np_classes=np_classes\n",
    "    )\n",
    "    test_loss, test_acc, test_AP, test_f1 = test(\n",
    "        model, epoch, outModelName, np_classes=np_classes\n",
    "    )\n",
    "    with open(logname, \"a\") as logfile:\n",
    "        logwriter = csv.writer(logfile, delimiter=\",\")\n",
    "        logwriter.writerow(\n",
    "            [\n",
    "                epoch,\n",
    "                train_loss,\n",
    "                train_acc.item(),\n",
    "                test_loss,\n",
    "                test_acc.item(),\n",
    "                train_f1.item(),\n",
    "                test_f1.item(),\n",
    "            ]\n",
    "        )\n",
    "\n",
    "    print(\n",
    "        f\"Epoch: {epoch} | train acc: {np.round(train_acc.item(), 3)} | test acc: {np.round(test_acc.item(), 3)}\"\n",
    "    )\n",
    "    print(\n",
    "        f\"Epoch: {epoch} | train loss: {np.round(train_loss, 3)} | test loss: {np.round(test_loss, 3)}\"\n",
    "    )\n",
    "    print(\n",
    "        f\"Epoch: {epoch} | train AP: {np.round(train_AP.item(), 3)} | test AP: {np.round(test_AP.item(), 3)}\"\n",
    "    )\n",
    "    print(\n",
    "        f\"Epoch: {epoch} | train F1: {np.round(train_f1.item(), 3)} | test F1: {np.round(test_f1.item(), 3)}\"\n",
    "    )\n"
   ]
  },
  {
   "cell_type": "code",
   "execution_count": null,
   "metadata": {},
   "outputs": [],
   "source": [
    "##@title plot results\n",
    "results = pd.read_csv(f'./resultsPretrain/ResNet_{outModelName}.csv', sep =',')\n",
    "results.head()"
   ]
  },
  {
   "cell_type": "code",
   "execution_count": null,
   "metadata": {},
   "outputs": [],
   "source": [
    "train_accuracy = results['train acc'].values\n",
    "test_accuracy = results['test acc'].values\n",
    "\n",
    "print(f'Average Accuracy over {max_epochs_target} epochs:', sum(test_accuracy)//len(test_accuracy))\n",
    "print(f'best accuraccy over {max_epochs_target} epochs:', max(test_accuracy))"
   ]
  },
  {
   "cell_type": "code",
   "execution_count": null,
   "metadata": {},
   "outputs": [],
   "source": [
    "# figureName = 'figure' # change figure name\n",
    "\n",
    "plt.plot(results['epoch'].values, train_accuracy, label='train')\n",
    "plt.plot(results['epoch'].values, test_accuracy, label='test')\n",
    "plt.xlabel('Number of epochs')\n",
    "plt.ylabel('Accuracy')\n",
    "plt.title(f'Train/Test Accuracy curve for {max_epochs} epochs')\n",
    "# plt.savefig(f'/content/results/{figureName}.png')\n",
    "plt.legend()\n",
    "plt.show()"
   ]
  },
  {
   "cell_type": "code",
   "execution_count": null,
   "metadata": {},
   "outputs": [],
   "source": []
  },
  {
   "attachments": {},
   "cell_type": "markdown",
   "metadata": {},
   "source": [
    "### Finetuning"
   ]
  },
  {
   "cell_type": "code",
   "execution_count": null,
   "metadata": {},
   "outputs": [],
   "source": [
    " # delete the backbone network\n",
    "delete = True\n",
    "if delete:\n",
    "    del model\n",
    "    del celeb_train_data\n",
    "    del celeb_val_data\n",
    "    del trainloader\n",
    "    del testloader\n",
    "    gc.collect()"
   ]
  },
  {
   "cell_type": "code",
   "execution_count": null,
   "metadata": {},
   "outputs": [],
   "source": [
    "# mean and std stats\n",
    "mean = [0.485, 0.456, 0.406]\n",
    "std = [0.229, 0.224, 0.225]\n",
    "\n",
    "train_transform = transforms.Compose(\n",
    "    [\n",
    "        transforms.Resize(size=(64, 64)),\n",
    "        # transforms.RandomCrop(64, padding=4),\n",
    "        # transforms.RandomHorizontalFlip(),\n",
    "        transforms.ToTensor(),\n",
    "        transforms.Normalize(mean, std),\n",
    "    ]\n",
    ")\n",
    "\n",
    "val_transform = transforms.Compose(\n",
    "    [\n",
    "        transforms.Resize(size=(64, 64)),\n",
    "        transforms.ToTensor(),\n",
    "        transforms.Normalize(mean, std),\n",
    "    ]\n",
    ")\n",
    "\n",
    "celeb_train_finetune_data = iterable_random_celeb_split(\n",
    "    data_path=\"datasets/\",\n",
    "    split=\"train\",\n",
    "    mode=\"finetune\",\n",
    "    batch_size=128,\n",
    "    transforms=train_transform,\n",
    ")\n",
    "celeb_val_finetune_data = iterable_random_celeb_split(\n",
    "    data_path=\"datasets/\",\n",
    "    split=\"valid\",\n",
    "    mode=\"finetune\",\n",
    "    batch_size=128,\n",
    "    transforms=val_transform,\n",
    ")\n",
    "\n",
    "trainloader = torch.utils.data.DataLoader(celeb_train_finetune_data, batch_size=None)\n",
    "valloader = torch.utils.data.DataLoader(celeb_val_finetune_data, batch_size=None)\n"
   ]
  },
  {
   "cell_type": "code",
   "execution_count": null,
   "metadata": {},
   "outputs": [],
   "source": []
  },
  {
   "cell_type": "code",
   "execution_count": null,
   "metadata": {},
   "outputs": [],
   "source": [
    "model = ResNet18()\n",
    "\n",
    "checkpointPath = '/content/checkpoint/pretrain.t7'\n",
    "\n",
    "print(' ===> loading pretrained model from: ', checkpointPath)\n",
    "if os.path.isfile(checkpointPath):\n",
    "    state_dict = torch.load(checkpointPath)\n",
    "    best_acc = state_dict['acc']\n",
    "    print('Best Accuracy:', best_acc)\n",
    "    if \"state_dict\" in state_dict:\n",
    "        state_dict = state_dict[\"state_dict\"]\n",
    "    # remove prefixe \"module.\"\n",
    "    state_dict = {k.replace(\"module.\", \"\"): v for k, v in state_dict.items()}\n",
    "    for k, v in model.state_dict().items():\n",
    "        if k not in list(state_dict):\n",
    "            print('key \"{}\" could not be found in provided state dict'.format(k))\n",
    "        elif state_dict[k].shape != v.shape:\n",
    "            print('key \"{}\" is of different shape in model and provided state dict'.format(k))\n",
    "            state_dict[k] = v\n",
    "    msg = model.load_state_dict(state_dict, strict=False)\n",
    "    print(\"Load pretrained model with msg: {}\".format(msg))\n",
    "else:\n",
    "    raise Exception('No pretrained weights found')"
   ]
  },
  {
   "cell_type": "code",
   "execution_count": null,
   "metadata": {},
   "outputs": [],
   "source": [
    "# Freeze the model parameters, you can also freeze some layers only\n",
    "\n",
    "for param in model.parameters():\n",
    "    param.requires_grad = False\n",
    "\n",
    "num_ftrs = model.linear.in_features\n",
    "model.linear = nn.Linear(num_ftrs, num_classes)\n",
    "model.to(mps_device)\n",
    "\n",
    "criterion = torch.nn.BCEWithLogitsLoss()\n",
    "optimizer = torch.optim.SGD(\n",
    "    model.linear.parameters(),\n",
    "    lr=lr,\n",
    "    momentum=0.9,\n",
    "    weight_decay=1e-4,\n",
    ")"
   ]
  },
  {
   "cell_type": "code",
   "execution_count": null,
   "metadata": {},
   "outputs": [],
   "source": [
    "# check number of trainable params\n",
    "total_params = sum(p.numel() for p in model.parameters())\n",
    "trainable_total_params = sum(p.numel() for p in model.parameters() if p.requires_grad)\n",
    "\n",
    "print('Total Parameters:', total_params, 'Trainable parameters: ', trainable_total_params)"
   ]
  },
  {
   "cell_type": "code",
   "execution_count": null,
   "metadata": {},
   "outputs": [],
   "source": [
    "##@title start training\n",
    "\n",
    "max_epochs = 10\n",
    "outModelName = \"finetuned\"\n",
    "logname = result_folder + model.__class__.__name__ + f'_{outModelName}.csv'\n",
    "if not os.path.exists(logname):\n",
    "    with open(logname, \"w\") as logfile:\n",
    "        logwriter = csv.writer(logfile, delimiter=\",\")\n",
    "        logwriter.writerow(\n",
    "            [\n",
    "                \"epoch\",\n",
    "                \"train loss\",\n",
    "                \"train acc\",\n",
    "                \"test loss\",\n",
    "                \"test acc\",\n",
    "                \"train F1\",\n",
    "                \"test F1\",\n",
    "            ]\n",
    "        )\n",
    "\n",
    "for epoch in range(max_epochs):\n",
    "    adjust_learning_rate(optimizer, epoch)\n",
    "    train_loss, train_acc, train_AP, train_f1 = train(\n",
    "        model, epoch, np_classes=np_classes\n",
    "    )\n",
    "    test_loss, test_acc, test_AP, test_f1 = test(\n",
    "        model, epoch, outModelName, np_classes=np_classes\n",
    "    )\n",
    "    with open(logname, \"a\") as logfile:\n",
    "        logwriter = csv.writer(logfile, delimiter=\",\")\n",
    "        logwriter.writerow(\n",
    "            [\n",
    "                epoch,\n",
    "                train_loss,\n",
    "                train_acc.item(),\n",
    "                test_loss,\n",
    "                test_acc.item(),\n",
    "                train_f1.item(),\n",
    "                test_f1.item(),\n",
    "            ]\n",
    "        )\n",
    "\n",
    "    print(\n",
    "        f\"Epoch: {epoch} | train acc: {np.round(train_acc.item(), 3)} | test acc: {np.round(test_acc.item(), 3)}\"\n",
    "    )\n",
    "    print(\n",
    "        f\"Epoch: {epoch} | train loss: {np.round(train_loss, 3)} | test loss: {np.round(test_loss, 3)}\"\n",
    "    )\n",
    "    print(\n",
    "        f\"Epoch: {epoch} | train AP: {np.round(train_AP.item(), 3)} | test AP: {np.round(test_AP.item(), 3)}\"\n",
    "    )\n",
    "    print(\n",
    "        f\"Epoch: {epoch} | train F1: {np.round(train_f1.item(), 3)} | test F1: {np.round(test_f1.item(), 3)}\"\n",
    "    )\n"
   ]
  },
  {
   "cell_type": "code",
   "execution_count": null,
   "metadata": {},
   "outputs": [],
   "source": []
  }
 ],
 "metadata": {
  "kernelspec": {
   "display_name": "ltc",
   "language": "python",
   "name": "python3"
  },
  "language_info": {
   "codemirror_mode": {
    "name": "ipython",
    "version": 3
   },
   "file_extension": ".py",
   "mimetype": "text/x-python",
   "name": "python",
   "nbconvert_exporter": "python",
   "pygments_lexer": "ipython3",
   "version": "3.8.16"
  },
  "orig_nbformat": 4,
  "vscode": {
   "interpreter": {
    "hash": "6de98b8fee8d5a83ea7ac89941ce5f9d34915dc7a0e0eeaf1cff50d312a122a0"
   }
  }
 },
 "nbformat": 4,
 "nbformat_minor": 2
}
