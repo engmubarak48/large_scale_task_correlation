{
 "cells": [
  {
   "cell_type": "code",
   "execution_count": 30,
   "id": "92407331-e3d2-4472-86dc-088d2db57a82",
   "metadata": {},
   "outputs": [],
   "source": [
    "import os\n",
    "import torch\n",
    "import json\n",
    "import csv\n",
    "import argparse\n",
    "import numpy as np\n",
    "from PIL import Image\n",
    "import torch.nn as nn\n",
    "import multiprocessing\n",
    "from utils import scores\n",
    "from model import ResNet18\n",
    "import torch.optim as optim\n",
    "import torch.nn.functional as F\n",
    "import matplotlib.pyplot as plt\n",
    "from torchvision import datasets\n",
    "import torchvision.models as models\n",
    "from torch.autograd import Variable\n",
    "import torch.backends.cudnn as cudnn\n",
    "from config import args as default_args\n",
    "from utils import DotDict, parse_arguments\n",
    "import torchvision.transforms as transforms\n",
    "from dataloader import CocoClassDatasetRandom"
   ]
  },
  {
   "cell_type": "code",
   "execution_count": 31,
   "id": "996931b1-879a-4d2e-bed6-426ea56c6426",
   "metadata": {},
   "outputs": [],
   "source": [
    "from config import args"
   ]
  },
  {
   "cell_type": "code",
   "execution_count": 32,
   "id": "7d391571-bb5e-4a86-b43a-5441e94bd674",
   "metadata": {},
   "outputs": [
    {
     "name": "stdout",
     "output_type": "stream",
     "text": [
      "loading annotations into memory...\n",
      "Done (t=14.81s)\n",
      "creating index...\n",
      "index created!\n",
      "loading annotations into memory...\n",
      "Done (t=4.69s)\n",
      "creating index...\n",
      "index created!\n",
      "----> number of workers: 40\n"
     ]
    }
   ],
   "source": [
    "def change_to_3_channel(x):\n",
    "    if x.size()[0] == 1:\n",
    "        return x.repeat(3, 1, 1)\n",
    "    return x\n",
    "\n",
    "train_transform = transforms.Compose([\n",
    "                                    # transforms.Resize(size=(224,224)),\n",
    "                                    # transforms.RandomCrop(224, padding=4),\n",
    "                                    # transforms.RandomHorizontalFlip(), \n",
    "                                    transforms.ToTensor(),\n",
    "                                    change_to_3_channel,\n",
    "                                    transforms.Normalize(args.mean, args.std)\n",
    "                                ])\n",
    "\n",
    "val_transform = transforms.Compose([\n",
    "    # transforms.Resize(size=(224,224)),\n",
    "    transforms.ToTensor(),\n",
    "    change_to_3_channel,\n",
    "    transforms.Normalize(args.mean, args.std),\n",
    "])\n",
    "\n",
    "train_dataset = CocoClassDatasetRandom(images_path = args.train_images_path, annotation_path = args.train_annotation_path, transform = train_transform)\n",
    "val_dataset = CocoClassDatasetRandom(images_path = args.val_images_path, annotation_path = args.val_annotation_path, transform = val_transform)\n",
    "\n",
    "print(f'----> number of workers: {args.num_workers}')"
   ]
  },
  {
   "cell_type": "code",
   "execution_count": 33,
   "id": "f9fee0d2-0cb3-42b7-9045-774a154824b9",
   "metadata": {},
   "outputs": [],
   "source": [
    "batch_size = 4\n",
    "trainloader = torch.utils.data.DataLoader(\n",
    "    train_dataset, batch_size=batch_size, shuffle=True)\n",
    "testloader = torch.utils.data.DataLoader(\n",
    "    val_dataset, batch_size=batch_size, shuffle=False)"
   ]
  },
  {
   "cell_type": "code",
   "execution_count": 34,
   "id": "7ee8b33a-dfee-4063-9311-f76eb05f6531",
   "metadata": {},
   "outputs": [],
   "source": [
    "net = ResNet18() \n",
    "inp_features = net.linear.in_features\n",
    "net.linear = torch.nn.Linear(in_features=inp_features, out_features=args.num_classes)"
   ]
  },
  {
   "cell_type": "code",
   "execution_count": 6,
   "id": "06cbbef6-d1b8-4a75-bb6e-61d41639f7bd",
   "metadata": {},
   "outputs": [
    {
     "name": "stdout",
     "output_type": "stream",
     "text": [
      "-----> verify if model is run on random data\n"
     ]
    }
   ],
   "source": [
    "batch_x, batch_y = next(iter(trainloader))\n",
    "\n",
    "print('-----> verify if model is run on random data')"
   ]
  },
  {
   "cell_type": "code",
   "execution_count": 7,
   "id": "b195f56e-351d-4f4c-bbcb-e994ff75ec6e",
   "metadata": {},
   "outputs": [
    {
     "data": {
      "text/plain": [
       "(torch.Size([4, 3, 224, 224]), torch.Size([4, 1, 40]))"
      ]
     },
     "execution_count": 7,
     "metadata": {},
     "output_type": "execute_result"
    }
   ],
   "source": [
    "batch_x.shape, batch_y.shape"
   ]
  },
  {
   "cell_type": "code",
   "execution_count": 8,
   "id": "e13e3adf-fec0-45b7-b320-34535fb704de",
   "metadata": {},
   "outputs": [
    {
     "name": "stdout",
     "output_type": "stream",
     "text": [
      "Outputs shape: torch.Size([4, 40]), batch labels shape: torch.Size([4, 1, 40])\n"
     ]
    }
   ],
   "source": [
    "outputs = net(batch_x)\n",
    "\n",
    "print(f'Outputs shape: {outputs.shape}, batch labels shape: {batch_y.shape}') "
   ]
  },
  {
   "cell_type": "code",
   "execution_count": 9,
   "id": "1aad2976-abfc-4e1f-8c7e-d58b0f328645",
   "metadata": {},
   "outputs": [],
   "source": [
    "criterion = nn.BCEWithLogitsLoss()\n",
    "optimizer = optim.SGD(net.parameters(), lr = args.base_learning_rate, momentum=args.momentum, weight_decay=args.weight_decay)"
   ]
  },
  {
   "cell_type": "code",
   "execution_count": 10,
   "id": "76a81ffe-1465-4e60-894e-3d7d69eb13a7",
   "metadata": {},
   "outputs": [
    {
     "name": "stdout",
     "output_type": "stream",
     "text": [
      "Initial random loss: 0.7147601842880249\n"
     ]
    }
   ],
   "source": [
    "print(f'Initial random loss: {criterion(outputs, batch_y.squeeze().float())}')"
   ]
  },
  {
   "cell_type": "code",
   "execution_count": 11,
   "id": "1f811ca0-54d3-4146-b19f-9e94df704885",
   "metadata": {},
   "outputs": [
    {
     "data": {
      "text/plain": [
       "tensor([[0, 0, 0, 0, 0, 0, 0, 0, 0, 0, 0, 0, 0, 0, 0, 0, 0, 0, 0, 0, 0, 0, 0, 0,\n",
       "         0, 0, 0, 0, 0, 1, 1, 1, 0, 0, 0, 0, 0, 0, 0, 0],\n",
       "        [1, 0, 0, 0, 0, 1, 0, 0, 0, 0, 0, 0, 0, 0, 0, 0, 0, 0, 0, 0, 0, 0, 0, 0,\n",
       "         0, 0, 0, 0, 0, 0, 0, 0, 0, 0, 0, 0, 0, 0, 0, 0],\n",
       "        [0, 0, 0, 0, 0, 0, 0, 0, 0, 0, 0, 0, 0, 0, 0, 1, 0, 0, 0, 0, 0, 0, 0, 0,\n",
       "         0, 0, 0, 0, 0, 0, 0, 0, 0, 0, 0, 0, 0, 0, 0, 0],\n",
       "        [0, 0, 0, 0, 0, 0, 0, 0, 0, 0, 0, 0, 0, 0, 0, 0, 0, 0, 0, 0, 0, 0, 0, 0,\n",
       "         0, 0, 0, 1, 0, 0, 1, 0, 0, 0, 0, 0, 0, 1, 0, 0]])"
      ]
     },
     "execution_count": 11,
     "metadata": {},
     "output_type": "execute_result"
    }
   ],
   "source": [
    "batch_y.squeeze()"
   ]
  },
  {
   "cell_type": "code",
   "execution_count": 12,
   "id": "75771b05-a151-489a-a91e-c8969643a76b",
   "metadata": {},
   "outputs": [
    {
     "data": {
      "text/plain": [
       "tensor([[0., 0., 0., 1., 1., 0., 1., 0., 0., 1., 1., 0., 1., 1., 0., 1., 0., 0.,\n",
       "         0., 0., 1., 1., 0., 1., 1., 1., 0., 0., 1., 0., 1., 1., 1., 0., 0., 1.,\n",
       "         0., 0., 0., 0.],\n",
       "        [0., 1., 0., 1., 1., 0., 1., 0., 0., 1., 0., 0., 1., 1., 0., 1., 0., 0.,\n",
       "         0., 0., 1., 1., 0., 1., 1., 1., 0., 0., 1., 0., 1., 0., 1., 0., 0., 1.,\n",
       "         0., 0., 0., 0.],\n",
       "        [0., 1., 1., 1., 1., 0., 1., 0., 0., 0., 1., 0., 1., 1., 0., 1., 0., 1.,\n",
       "         1., 0., 1., 1., 0., 1., 1., 1., 0., 1., 1., 0., 1., 0., 1., 1., 0., 1.,\n",
       "         0., 0., 0., 0.],\n",
       "        [0., 1., 0., 1., 1., 0., 1., 0., 0., 0., 1., 0., 1., 1., 0., 1., 0., 0.,\n",
       "         0., 0., 1., 1., 0., 1., 1., 1., 0., 0., 1., 0., 1., 0., 1., 0., 0., 1.,\n",
       "         0., 0., 0., 0.]], grad_fn=<RoundBackward0>)"
      ]
     },
     "execution_count": 12,
     "metadata": {},
     "output_type": "execute_result"
    }
   ],
   "source": [
    "predicted = torch.round(torch.sigmoid(outputs))\n",
    "predicted"
   ]
  },
  {
   "cell_type": "code",
   "execution_count": 13,
   "id": "95432996-f81c-4e26-a2e7-32653f927434",
   "metadata": {},
   "outputs": [
    {
     "data": {
      "text/plain": [
       "tensor([[ True,  True,  True, False, False,  True, False,  True,  True, False,\n",
       "         False,  True, False, False,  True, False,  True,  True,  True,  True,\n",
       "         False, False,  True, False, False, False,  True,  True, False, False,\n",
       "          True,  True, False,  True,  True, False,  True,  True,  True,  True],\n",
       "        [False, False,  True, False, False, False, False,  True,  True, False,\n",
       "          True,  True, False, False,  True, False,  True,  True,  True,  True,\n",
       "         False, False,  True, False, False, False,  True,  True, False,  True,\n",
       "         False,  True, False,  True,  True, False,  True,  True,  True,  True],\n",
       "        [ True, False, False, False, False,  True, False,  True,  True,  True,\n",
       "         False,  True, False, False,  True,  True,  True, False, False,  True,\n",
       "         False, False,  True, False, False, False,  True, False, False,  True,\n",
       "         False,  True, False, False,  True, False,  True,  True,  True,  True],\n",
       "        [ True, False,  True, False, False,  True, False,  True,  True,  True,\n",
       "         False,  True, False, False,  True, False,  True,  True,  True,  True,\n",
       "         False, False,  True, False, False, False,  True, False, False,  True,\n",
       "          True,  True, False,  True,  True, False,  True, False,  True,  True]])"
      ]
     },
     "execution_count": 13,
     "metadata": {},
     "output_type": "execute_result"
    }
   ],
   "source": [
    "predicted.eq(batch_y.squeeze().float())"
   ]
  },
  {
   "cell_type": "code",
   "execution_count": 14,
   "id": "48a34de0-0ee2-4304-b3cc-4f89ec6de41b",
   "metadata": {},
   "outputs": [
    {
     "data": {
      "text/plain": [
       "tensor(85)"
      ]
     },
     "execution_count": 14,
     "metadata": {},
     "output_type": "execute_result"
    }
   ],
   "source": [
    "correct = predicted.eq(batch_y.squeeze().float()).cpu().sum()\n",
    "correct"
   ]
  },
  {
   "cell_type": "code",
   "execution_count": 15,
   "id": "17d8219b-6819-4eef-8e83-3586dfd2da75",
   "metadata": {},
   "outputs": [
    {
     "name": "stdout",
     "output_type": "stream",
     "text": [
      "Initial random acc: 53.125 %\n"
     ]
    }
   ],
   "source": [
    "random_acc = correct/(batch_size * args.num_classes) * 100\n",
    "print(f'Initial random acc: {random_acc} %')"
   ]
  },
  {
   "cell_type": "code",
   "execution_count": null,
   "id": "bc3d9934-e508-46d7-ae83-666fd42bdf8f",
   "metadata": {},
   "outputs": [],
   "source": []
  },
  {
   "cell_type": "code",
   "execution_count": 22,
   "id": "bc13e8bf-4cb4-468f-a17b-d0bbf8e1b92c",
   "metadata": {},
   "outputs": [
    {
     "name": "stdout",
     "output_type": "stream",
     "text": [
      "Initial AP score: 0.0660341156664686 %\n",
      "Initial f1 score: 0.09435817805383023 %\n"
     ]
    }
   ],
   "source": [
    "AP, f1 = scores(batch_y.squeeze().numpy(), predicted.detach().numpy())\n",
    "\n",
    "print(f'Initial AP score: {AP} %')\n",
    "print(f'Initial f1 score: {f1} %')"
   ]
  },
  {
   "cell_type": "code",
   "execution_count": 29,
   "id": "fa34e05d-bab9-4c6f-a3f1-64eb2b2accc3",
   "metadata": {},
   "outputs": [
    {
     "data": {
      "text/plain": [
       "0.09435817805383023"
      ]
     },
     "execution_count": 29,
     "metadata": {},
     "output_type": "execute_result"
    }
   ],
   "source": [
    "from sklearn.metrics import f1_score\n",
    "f1_score(batch_y.squeeze().numpy(), predicted.detach().numpy(), average='samples')"
   ]
  },
  {
   "cell_type": "code",
   "execution_count": 25,
   "id": "4c63730b-a1ab-48ea-8e46-10b3fdabec86",
   "metadata": {},
   "outputs": [
    {
     "data": {
      "text/plain": [
       "(array([[0, 0, 0, 0, 0, 0, 0, 0, 0, 0, 0, 0, 0, 0, 0, 0, 0, 0, 0, 0, 0, 0,\n",
       "         0, 0, 0, 0, 0, 0, 0, 1, 1, 1, 0, 0, 0, 0, 0, 0, 0, 0],\n",
       "        [1, 0, 0, 0, 0, 1, 0, 0, 0, 0, 0, 0, 0, 0, 0, 0, 0, 0, 0, 0, 0, 0,\n",
       "         0, 0, 0, 0, 0, 0, 0, 0, 0, 0, 0, 0, 0, 0, 0, 0, 0, 0],\n",
       "        [0, 0, 0, 0, 0, 0, 0, 0, 0, 0, 0, 0, 0, 0, 0, 1, 0, 0, 0, 0, 0, 0,\n",
       "         0, 0, 0, 0, 0, 0, 0, 0, 0, 0, 0, 0, 0, 0, 0, 0, 0, 0],\n",
       "        [0, 0, 0, 0, 0, 0, 0, 0, 0, 0, 0, 0, 0, 0, 0, 0, 0, 0, 0, 0, 0, 0,\n",
       "         0, 0, 0, 0, 0, 1, 0, 0, 1, 0, 0, 0, 0, 0, 0, 1, 0, 0]]),\n",
       " array([[0., 0., 0., 1., 1., 0., 1., 0., 0., 1., 1., 0., 1., 1., 0., 1.,\n",
       "         0., 0., 0., 0., 1., 1., 0., 1., 1., 1., 0., 0., 1., 0., 1., 1.,\n",
       "         1., 0., 0., 1., 0., 0., 0., 0.],\n",
       "        [0., 1., 0., 1., 1., 0., 1., 0., 0., 1., 0., 0., 1., 1., 0., 1.,\n",
       "         0., 0., 0., 0., 1., 1., 0., 1., 1., 1., 0., 0., 1., 0., 1., 0.,\n",
       "         1., 0., 0., 1., 0., 0., 0., 0.],\n",
       "        [0., 1., 1., 1., 1., 0., 1., 0., 0., 0., 1., 0., 1., 1., 0., 1.,\n",
       "         0., 1., 1., 0., 1., 1., 0., 1., 1., 1., 0., 1., 1., 0., 1., 0.,\n",
       "         1., 1., 0., 1., 0., 0., 0., 0.],\n",
       "        [0., 1., 0., 1., 1., 0., 1., 0., 0., 0., 1., 0., 1., 1., 0., 1.,\n",
       "         0., 0., 0., 0., 1., 1., 0., 1., 1., 1., 0., 0., 1., 0., 1., 0.,\n",
       "         1., 0., 0., 1., 0., 0., 0., 0.]], dtype=float32))"
      ]
     },
     "execution_count": 25,
     "metadata": {},
     "output_type": "execute_result"
    }
   ],
   "source": [
    "batch_y.squeeze().numpy(), predicted.detach().numpy()"
   ]
  }
 ],
 "metadata": {
  "kernelspec": {
   "display_name": "Python 3 (ipykernel)",
   "language": "python",
   "name": "python3"
  },
  "language_info": {
   "codemirror_mode": {
    "name": "ipython",
    "version": 3
   },
   "file_extension": ".py",
   "mimetype": "text/x-python",
   "name": "python",
   "nbconvert_exporter": "python",
   "pygments_lexer": "ipython3",
   "version": "3.10.5"
  }
 },
 "nbformat": 4,
 "nbformat_minor": 5
}
